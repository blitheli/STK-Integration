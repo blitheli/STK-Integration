{
 "cells": [
  {
   "cell_type": "code",
   "execution_count": 64,
   "metadata": {
    "collapsed": false
   },
   "outputs": [],
   "source": [
    "import nbpresent\n",
    "# nbpresent.__version__"
   ]
  },
  {
   "cell_type": "markdown",
   "metadata": {
    "collapsed": true
   },
   "source": [
    "\n",
    "\n",
    "## You're going to need the following things\n",
    "- A working instance of Python, complete with the following libraries\n",
    "  - comtypes\n",
    "  - pandas\n",
    "  - {some other stuff}"
   ]
  },
  {
   "cell_type": "markdown",
   "metadata": {},
   "source": [
    "First we import references to `comtypes`, and specifically the `CreateObject()` method"
   ]
  },
  {
   "cell_type": "code",
   "execution_count": 57,
   "metadata": {
    "collapsed": true
   },
   "outputs": [],
   "source": [
    "from win32api import GetSystemMetrics\n",
    "import comtypes\n",
    "from comtypes.client import CreateObject\n",
    "\n",
    "from IPython.display import Image, display, SVG\n",
    "import os as os\n"
   ]
  },
  {
   "cell_type": "markdown",
   "metadata": {},
   "source": [
    "### Let's start by setting up the STK (AgUiApplication) Application"
   ]
  },
  {
   "cell_type": "code",
   "execution_count": 13,
   "metadata": {
    "collapsed": false
   },
   "outputs": [
    {
     "name": "stdout",
     "output_type": "stream",
     "text": [
      "# Generating comtypes.gen._781C4C18_C2C9_4E16_B620_7B22BC8DE954_0_1_0\n",
      "# Generating comtypes.gen._00020430_0000_0000_C000_000000000046_0_2_0\n",
      "# Generating comtypes.gen.stdole\n",
      "# Generating comtypes.gen._9B797FC6_9EF1_4779_9691_A85B091560A1_0_1_0\n",
      "# Generating comtypes.gen.AgUiCoreLib\n",
      "# Generating comtypes.gen.AgUiApplicationLib\n"
     ]
    }
   ],
   "source": [
    "app=CreateObject(\"STK11.Application\")"
   ]
  },
  {
   "cell_type": "markdown",
   "metadata": {},
   "source": [
    "let's check what kind of object we've been given back. To do that we can use the Python `type()`\n",
    "call and pass in the variable referencing the object we're interested in."
   ]
  },
  {
   "cell_type": "code",
   "execution_count": 48,
   "metadata": {
    "collapsed": false
   },
   "outputs": [
    {
     "data": {
      "text/plain": [
       "comtypes.POINTER(_IAgUiApplication)"
      ]
     },
     "execution_count": 48,
     "metadata": {},
     "output_type": "execute_result"
    }
   ],
   "source": [
    "type(app)"
   ]
  },
  {
   "cell_type": "markdown",
   "metadata": {},
   "source": [
    "It's important to recognize that we're getting a **POINTER** to the **_IAgUiApplication_** which is normal behavior for Python.  This means that this variable points-to the representation of the **_AgUiApplication_** class, or instance of that class in memory."
   ]
  },
  {
   "cell_type": "markdown",
   "metadata": {},
   "source": [
    "Let's also point out the **very** important difference between the _Object_ that is **_AgUiApplication_** and the _Interface_ **_IAgUiApplication_** that it exposes for use. As per AGI's naming conventions used in the API, you can usually knock the **_I_** off the front end of the keyword to figure out what kind of object it is, as opposed to what kind of interface it's currently exposing."
   ]
  },
  {
   "cell_type": "code",
   "execution_count": 14,
   "metadata": {
    "collapsed": true
   },
   "outputs": [],
   "source": [
    "app.Visible=True\n",
    "app.UserControl=True"
   ]
  },
  {
   "cell_type": "markdown",
   "metadata": {},
   "source": [
    "As per most Windows Applications, this is where you can usually do things like position and resize the Application's main window.  Here we're going to place it on the left side of the screen, extending halfway to the right."
   ]
  },
  {
   "cell_type": "code",
   "execution_count": 22,
   "metadata": {
    "collapsed": false
   },
   "outputs": [],
   "source": [
    "app.Top=0\n",
    "app.Left=0\n",
    "app.Width=int(GetSystemMetrics(0)/2)\n",
    "app.Height=int(GetSystemMetrics(1)-30)"
   ]
  },
  {
   "cell_type": "markdown",
   "metadata": {},
   "source": [
    "#### Now lets get to work. \n",
    "We need to start using the STK Object model, and to do that we want to get a reference to the Object Model Tree itself.\n",
    "In AGI terms, we refer to the particular version of the structure of that Object Model as it's \"Personality\".  To date there are two existing versions of that structure, and we want to use the latest one, simply called **_Personality2_**"
   ]
  },
  {
   "cell_type": "code",
   "execution_count": 16,
   "metadata": {
    "collapsed": false
   },
   "outputs": [
    {
     "name": "stdout",
     "output_type": "stream",
     "text": [
      "# Generating comtypes.gen._D6A1725B_89FF_43A4_995B_7F055549F4EB_0_1_0\n",
      "# Generating comtypes.gen._8B49F426_4BF0_49F7_A59B_93961D83CB5D_0_1_0\n",
      "# Generating comtypes.gen._00DD7BD4_53D5_4870_996B_8ADB8AF904FA_0_1_0\n",
      "# Generating comtypes.gen.STKUtil\n",
      "# Generating comtypes.gen.AgSTKVgtLib\n",
      "# Generating comtypes.gen._42D2781B_8A06_4DB2_9969_72D6ABF01A72_0_1_0\n",
      "# Generating comtypes.gen.AgSTKGraphicsLib\n",
      "# Generating comtypes.gen.STKObjects\n"
     ]
    }
   ],
   "source": [
    "root=app.Personality2"
   ]
  },
  {
   "cell_type": "markdown",
   "metadata": {},
   "source": [
    "If this is the first time you've run this Notebook, you'll see how the Python `comtypes` module generates Python \"wrappers\" around the Objects that are defined in the STK Object Model Tree.\n",
    "Two of the top-level ones we care about, and will be using repeatedly through our introductory exploration of the STK Object Model API are:\n",
    "- **STKUtil**\n",
    "- **STKObjects**\n",
    "\n",
    "lets keep their python \"paths\" in mind so we can import them later.  If you've run a python script that used `comtypes` to \"touch\" STK in the past, those generated wrappers will already exist in the `comtypes.client.gen-dir` folder location"
   ]
  },
  {
   "cell_type": "code",
   "execution_count": 50,
   "metadata": {
    "collapsed": false
   },
   "outputs": [
    {
     "data": {
      "text/plain": [
       "'C:\\\\Users\\\\fsnyder\\\\AppData\\\\Local\\\\Continuum\\\\Anaconda3\\\\lib\\\\site-packages\\\\comtypes\\\\gen'"
      ]
     },
     "execution_count": 50,
     "metadata": {},
     "output_type": "execute_result"
    }
   ],
   "source": [
    "comtypes.client.gen_dir"
   ]
  },
  {
   "cell_type": "code",
   "execution_count": 58,
   "metadata": {
    "collapsed": false
   },
   "outputs": [
    {
     "data": {
      "text/plain": [
       "['AgSTKGraphicsLib.py',\n",
       " 'AgSTKVgtLib.py',\n",
       " 'AgUiApplicationLib.py',\n",
       " 'AgUiCoreLib.py',\n",
       " 'stdole.py',\n",
       " 'STKObjects.py',\n",
       " 'STKUtil.py',\n",
       " '_00020430_0000_0000_C000_000000000046_0_2_0.py',\n",
       " '_00DD7BD4_53D5_4870_996B_8ADB8AF904FA_0_1_0.py',\n",
       " '_42D2781B_8A06_4DB2_9969_72D6ABF01A72_0_1_0.py',\n",
       " '_781C4C18_C2C9_4E16_B620_7B22BC8DE954_0_1_0.py',\n",
       " '_8B49F426_4BF0_49F7_A59B_93961D83CB5D_0_1_0.py',\n",
       " '_9B797FC6_9EF1_4779_9691_A85B091560A1_0_1_0.py',\n",
       " '_D6A1725B_89FF_43A4_995B_7F055549F4EB_0_1_0.py',\n",
       " '__pycache__']"
      ]
     },
     "execution_count": 58,
     "metadata": {},
     "output_type": "execute_result"
    }
   ],
   "source": [
    "os.listdir(comtypes.client.gen_dir)"
   ]
  },
  {
   "cell_type": "markdown",
   "metadata": {},
   "source": [
    "It's important to know where these cached python wrappers are located in case you want to remove them, like when trying to use this same script against a different version of STK.  At the time of writing this, we're using STKv11.1, so the classID's you see listed in that folder reflect the \"current\" version of each Type Library used by STKv11.1\n",
    "\n",
    "In general, those classID's won't change except for released updates at the \"Major Number\" level of STK, such as STKv9.x.x, STKv10.x.x, STKv11.x.x, etc...\n",
    "\n",
    "As a general rule of thumb, you'll want to clear the contents of the `gen` folder of the STK wrappers after you've done a major number upgrade of STK.\n",
    "\n"
   ]
  },
  {
   "cell_type": "markdown",
   "metadata": {},
   "source": [
    "#### So, now let's also check what kind of object we've been given back."
   ]
  },
  {
   "cell_type": "code",
   "execution_count": 18,
   "metadata": {
    "collapsed": false
   },
   "outputs": [
    {
     "data": {
      "text/plain": [
       "comtypes.POINTER(_IAgStkObjectRoot)"
      ]
     },
     "execution_count": 18,
     "metadata": {},
     "output_type": "execute_result"
    }
   ],
   "source": [
    "type(root)"
   ]
  },
  {
   "cell_type": "markdown",
   "metadata": {},
   "source": [
    "The Interface is named **_IAgStkObjectRoot_** **NOT** **_IAgStkObject_** (no root) so it looks like a \"special\" kind of STK object, and it is.  The Root object in the STK API sits at the very **top** of the Object Heirarchy Tree.\n",
    "\n",
    "#### From this `root` object we can reach all the sub-objects, methods, and properties by traversing the API Object Model."
   ]
  },
  {
   "cell_type": "markdown",
   "metadata": {},
   "source": [
    "Next, we're going to assign two new variables to the autogenerated Python wrappers of the STK Classes found in `comtypes.gen.STKObjects` and `comtypes.gen.STKUtil`.  These will be useful when transitioning between Interfaces exposed by each STK object we will use, as well as all the readable Enumerations (ex. eScenario = 19)"
   ]
  },
  {
   "cell_type": "code",
   "execution_count": 19,
   "metadata": {
    "collapsed": false
   },
   "outputs": [],
   "source": [
    "from comtypes.gen import STKUtil\n",
    "from comtypes.gen import STKObjects"
   ]
  },
  {
   "cell_type": "markdown",
   "metadata": {},
   "source": [
    "### Now let's create a Scenario, the start of any kind of STK-related work"
   ]
  },
  {
   "cell_type": "code",
   "execution_count": 59,
   "metadata": {
    "collapsed": false
   },
   "outputs": [
    {
     "ename": "COMError",
     "evalue": "(-2147220982, 'A subscription cannot be stored unless its event class already exists', ('Scenario /Application/STK/Scenario/IPython_DIY Already exists, cannot have multiple Scenarios', 'AgStkObjects11.AgStkObjectRoot.1', None, 0, None))",
     "output_type": "error",
     "traceback": [
      "\u001b[0;31m---------------------------------------------------------------------------\u001b[0m",
      "\u001b[0;31mCOMError\u001b[0m                                  Traceback (most recent call last)",
      "\u001b[0;32m<ipython-input-59-760990aa65ea>\u001b[0m in \u001b[0;36m<module>\u001b[0;34m()\u001b[0m\n\u001b[0;32m----> 1\u001b[0;31m \u001b[0msc\u001b[0m\u001b[1;33m=\u001b[0m\u001b[0mroot\u001b[0m\u001b[1;33m.\u001b[0m\u001b[0mNewScenario\u001b[0m\u001b[1;33m(\u001b[0m\u001b[1;34m\"IPython_DIY\"\u001b[0m\u001b[1;33m)\u001b[0m\u001b[1;33m\u001b[0m\u001b[0m\n\u001b[0m",
      "\u001b[0;31mCOMError\u001b[0m: (-2147220982, 'A subscription cannot be stored unless its event class already exists', ('Scenario /Application/STK/Scenario/IPython_DIY Already exists, cannot have multiple Scenarios', 'AgStkObjects11.AgStkObjectRoot.1', None, 0, None))"
     ]
    }
   ],
   "source": [
    "root.NewScenario(\"IPython_DIY\")"
   ]
  },
  {
   "cell_type": "markdown",
   "metadata": {},
   "source": [
    "and lets set the variable `sc` to the current scenario using the exposed **CurrentScenario** method off the `root` object"
   ]
  },
  {
   "cell_type": "code",
   "execution_count": 23,
   "metadata": {
    "collapsed": false
   },
   "outputs": [],
   "source": [
    "sc=root.CurrentScenario"
   ]
  },
  {
   "cell_type": "code",
   "execution_count": 46,
   "metadata": {
    "collapsed": false
   },
   "outputs": [
    {
     "data": {
      "text/plain": [
       "comtypes.POINTER(IAgStkObject)"
      ]
     },
     "execution_count": 46,
     "metadata": {},
     "output_type": "execute_result"
    }
   ],
   "source": [
    "type(sc)"
   ]
  },
  {
   "cell_type": "markdown",
   "metadata": {},
   "source": [
    "The object interface we get back is of type **_IAgStkObject_** which is a generic base class for **every** Object found in STK.  As such, {_Satellites, Ships, Aircraft, Facilities_, etc...} ALL implement the **_IAgStkObject_** interface consistently accross their respective Classes, including the _Scenario_ itself, but for our next step we need to work with _Scenario_-specific kind of properties and methods, such as the `SetTimePeriod()` method, which are only going to be found when the `sc` Object \"behaves\" like a _Scenario_ rather than a generic StkObject, so we need to \"cast\" the `sc` object into it's **_IAgScenario_** Interface.  \n",
    "\n",
    "We do that via the `QueryInterface`() generic method that Python added onto the `sc` object returned by STK's `root` Object, and for future convenience, simply set a different `sc2` object to that change. Now we can use both the generic **_IAgStkObject_** features of the _Scenario_ by using the `sc` variable, and the more _Scenario_-specific ones of **_IAgScenario_** by using the `sc2` variable.\n",
    "\n",
    "If you forget which one represents which exposed interface at any time, you can simply use the tab-completion feature to see what Properties and Methods exist for each `sc`/`sc2` variable.\n",
    "\n",
    "\n",
    "We use the `STKObjects.IAgScenario` \"knowledge\" gained when the STK Type Libraries were scanned and those equivalent Python Classes created. Both `sc` and `sc2` \"point\" to the very same object, but different exposed interfaces.\n",
    "##### Online docs for [_IAgSTKObject_](http://help.agi.com/resources/help/online/stkdevkit/11.1/index.html?page=source%2Fextfile%2FSTKObjects%2FSTKObjects~IAgStkObject.html)\n",
    "\n",
    "##### Online docs for [_IAgSCenario_](http://help.agi.com/resources/help/online/stkdevkit/11.1/index.html?page=source%2Fextfile%2FSTKObjects%2FSTKObjects~IAgScenario.html)"
   ]
  },
  {
   "cell_type": "code",
   "execution_count": 47,
   "metadata": {
    "collapsed": false
   },
   "outputs": [
    {
     "data": {
      "text/plain": [
       "comtypes.POINTER(IAgScenario)"
      ]
     },
     "execution_count": 47,
     "metadata": {},
     "output_type": "execute_result"
    }
   ],
   "source": [
    "sc2=sc.QueryInterface(STKObjects.IAgScenario)\n",
    "type(sc2)"
   ]
  },
  {
   "cell_type": "markdown",
   "metadata": {},
   "source": [
    "Now that it's implementing the right interface, we can set the Time Period to be what we want\n",
    "<table>\n",
    "<tr><td>Start Time</td><td>10 Jun 2016 04:00:00 UTCG</td></tr>\n",
    "<tr><td>Stop Time</td><td>11 Jun 2016 04:00:00 UTCG</td></tr>\n",
    "</table>\n",
    "\n",
    "The times are conveniently in a **Gregorian** format, referencing UTC, so we don't need to convert any Date/Time units because STK's Default Date settings are to use UTCG, but it's always good to pay attention to details like this."
   ]
  },
  {
   "cell_type": "code",
   "execution_count": 60,
   "metadata": {
    "collapsed": false
   },
   "outputs": [],
   "source": [
    "sc2.SetTimePeriod(\"10 Jun 2016 04:00:00\",\"11 Jun 2016 04:00:00\")\n",
    "# and while we're at it, lets reset the Animation time for the scenario to the begining.\n",
    "# this is an action (method) that can called from the root level.\n",
    "root.Rewind();"
   ]
  },
  {
   "cell_type": "markdown",
   "metadata": {},
   "source": [
    "### Next we need to create a Facility on the ground\n",
    "It's position will be defined by Latitude, Longitude and Altitude, which are traditionally termed **Geodetic** coordinates.\n",
    "<table>\n",
    "<tr><td>Latitude</td><td>38.9943 deg</td></tr>\n",
    "<tr><td>Longitude</td><td>-76.8489 deg (- implies West)</td></tr>\n",
    "<tr><td>Altitude (above WGS84)</td><td>0 m</td></tr>\n",
    "</table>"
   ]
  },
  {
   "cell_type": "markdown",
   "metadata": {},
   "source": [
    "So let's first create the Facility, using the sc object and it's **_IAgStkObject_** Interface"
   ]
  },
  {
   "cell_type": "markdown",
   "metadata": {},
   "source": [
    "The `sc` object can return a Collection of \"Children\" that hierarchically fall under it.  That collection also has a `New` Method we can use to create any kind of STK object that is allowed to be attached underneath the _Scenario_ level of the STK Object Browser Tree.  In the following example, we can \"gang\" multiple traverses through the object model using additional '.' and tab-completions, as follows:"
   ]
  },
  {
   "cell_type": "code",
   "execution_count": null,
   "metadata": {
    "collapsed": true
   },
   "outputs": [],
   "source": [
    "fac= sc.Children.New(STKObjects.eFacility,\"codeFacility\")"
   ]
  },
  {
   "cell_type": "markdown",
   "metadata": {},
   "source": [
    "Now we want to define it's position, preferably using a Geodetic frame of reference.  To do that, we need to use the objects **IAgFacility** interface instead of it's **IAgStkObject** interface."
   ]
  },
  {
   "cell_type": "code",
   "execution_count": 63,
   "metadata": {
    "collapsed": false
   },
   "outputs": [
    {
     "data": {
      "text/plain": [
       "0"
      ]
     },
     "execution_count": 63,
     "metadata": {},
     "output_type": "execute_result"
    }
   ],
   "source": [
    "fac2 = fac.QueryInterface(STKObjects.IAgFacility)\n",
    "fac2.Position.AssignGeodetic(38.9943,-76.8489,0)"
   ]
  },
  {
   "cell_type": "markdown",
   "metadata": {},
   "source": [
    "### Now we want to create a satellite with the following characteristics:\n",
    " - Use the J2 Propagator\n",
    " - Use Classical (keplerian) Elements, but slightly modified from \"traditional\" Classical Elements\n",
    "   - **Mean Motion** for the size instead of Semi-Major Axis\n",
    "   - **Mean Anomaly** for the location in the orbit instead of True Anomaly\n",
    "\n",
    "We also want to use slightly different units for the Mean Motion (revs/day)\n",
    "\n",
    "<table>\n",
    "<th>Specific Values</th>\n",
    "<tr><td>Orbit Epoch (state Epoch)</td><td>08 Jun 2016 15:14:26</td></tr>\n",
    "<tr><td>Mean Motion</td><td>15.08385840 revs/day</td></tr>\n",
    "<tr><td>Eccentricity</td><td>0.0002947</td></tr>\n",
    "<tr><td>Inclination</td><td>28.4703 deg</td></tr>\n",
    "<tr><td>Argument of Perigee</td><td>114.7239 deg</td></tr>\n",
    "<tr><td>RAAN</td><td>315.1965 deg</td></tr>\n",
    "<tr><td>Mean Anomaly</td><td>332.9096 deg</td></tr>\n",
    "</table>\n"
   ]
  },
  {
   "cell_type": "markdown",
   "metadata": {},
   "source": [
    "First we create the new \"codeSat\" Satellite object in the same way we created the Facility, but using a different `STKObjects.eSatellite` enumeration.  That object, of default Type **_IAgStkObject_** gets reflected in the `sat` variable.\n",
    "\n",
    "Of course we want to do _Satellite_ things with this Object, so let's create a second `sat2` variable that's set to use the **_IAgSatellite_** interface."
   ]
  },
  {
   "cell_type": "code",
   "execution_count": 30,
   "metadata": {
    "collapsed": false
   },
   "outputs": [],
   "source": [
    "sat = sc.Children.New(STKObjects.eSatellite, \"codeSat\")\n",
    "sat2= sat.QueryInterface(STKObjects.IAgSatellite)"
   ]
  },
  {
   "cell_type": "markdown",
   "metadata": {},
   "source": [
    "There is a \"pattern\" to how a Satellite is created, it's properties defined, and it's propagator asked to calculate it's position over a specified time period.  That pattern can be easily understood by following the sequence of actions performed in the GUI when setting up a Satellite.  NOTE: This same philosophy applies to working with any other STK object as well.\n",
    "\n",
    "\n",
    "**When laying out the STK Object Model hierarchial structure back in STKv5.0, when it first appeared, the developers chose to mimic the functional layout of the GUI, but in code.** \n",
    "\n",
    "So, by simply remembering how we set up an object in the GUI (mouse clicks and selections), we have a basic \"roadmap\" for how to do the same in code.  The **sequence** of events done in the GUI usually needs to be replicated in a similar sequential fashion using code.\n",
    "\n",
    "So, when the first step in defining a Satellite is the selection of the Propagator, as seen below:"
   ]
  },
  {
   "cell_type": "markdown",
   "metadata": {},
   "source": [
    "<img src=\"./images/1.SelectJ2PropagatorFromPulldown.png\"/>"
   ]
  },
  {
   "cell_type": "markdown",
   "metadata": {},
   "source": [
    "where the very first thing you do in this GUI panel is select from a dropdown of available Propagators the J2Perturbation propagator. That selection will change the GUI layout to reflect the type of propagator selected, and the data entry options that are allowed.\n",
    "\n",
    "Here's the code equivalent:"
   ]
  },
  {
   "cell_type": "markdown",
   "metadata": {},
   "source": [
    "To get a list of the allowed Propagators for this object, we can \"ask\" it for what's supported"
   ]
  },
  {
   "cell_type": "code",
   "execution_count": 69,
   "metadata": {
    "collapsed": false
   },
   "outputs": [
    {
     "data": {
      "text/plain": [
       "((16, '11Parameter'),\n",
       " (12, 'Astrogator'),\n",
       " (14, 'GPS'),\n",
       " (0, 'HPOP'),\n",
       " (1, 'J2Perturbation'),\n",
       " (2, 'J4Perturbation'),\n",
       " (3, 'LOP'),\n",
       " (13, 'RealTime'),\n",
       " (4, 'SGP4'),\n",
       " (17, 'SP3'),\n",
       " (5, 'SPICE'),\n",
       " (6, 'StkExternal'),\n",
       " (7, 'TwoBody'),\n",
       " (8, 'UserExternal'))"
      ]
     },
     "execution_count": 69,
     "metadata": {},
     "output_type": "execute_result"
    }
   ],
   "source": [
    "sat2.PropagatorSupportedTypes"
   ]
  },
  {
   "cell_type": "markdown",
   "metadata": {},
   "source": [
    "and we see that J2Perturbation is available, along with a few others that have been activated by the valid licenses that STK saw on startup. \n",
    "\n",
    "**NOTE: Only items that are activated by valid licenses will show up in this list, or be available when assignining at runtime.**\n",
    "\n",
    "Now we can set the Propagator type using a related method `SetPropagatorType` and passing it the `STKObjects.ePropagatorJ2Perturbation` enumeration (which actualy resolves to the number \"1\")"
   ]
  },
  {
   "cell_type": "code",
   "execution_count": null,
   "metadata": {
    "collapsed": true
   },
   "outputs": [],
   "source": [
    "sat2.SetPropagatorType(STKObjects.ePropagatorJ2Perturbation)"
   ]
  },
  {
   "cell_type": "markdown",
   "metadata": {},
   "source": [
    "Now the .Propagator \"property\" of the `sat2` object will return an instance of the right kind of J2Perturbation object for us to work with."
   ]
  },
  {
   "cell_type": "code",
   "execution_count": 31,
   "metadata": {
    "collapsed": true
   },
   "outputs": [],
   "source": [
    "satProp = sat2.Propagator"
   ]
  },
  {
   "cell_type": "code",
   "execution_count": 33,
   "metadata": {
    "collapsed": false
   },
   "outputs": [
    {
     "data": {
      "text/plain": [
       "comtypes.POINTER(IAgVePropagator)"
      ]
     },
     "execution_count": 33,
     "metadata": {},
     "output_type": "execute_result"
    }
   ],
   "source": [
    "type(satProp)"
   ]
  },
  {
   "cell_type": "markdown",
   "metadata": {},
   "source": [
    "`satProp` is currently showing that it's exposing an **_IAgVePropagator_** interface. Looking up that \"_IAgVePropagator_\" keyword in the docs returns a page showing co-Classes that implement **_IAgPropagator_**. That means that all these **_AgVe_**... Classes also reference and expose the **_IAgVePropagator_** interface, and possibly other interfaces as well.\n",
    "\n",
    "The class **_AgVePropagatorJ2Perturbation_** looks interesting and is more applicable to our needs, so lets take a closer look at that...\n",
    "\n",
    "It has 2 Interfaces:\n",
    " - **_IAgVePropagator_** : Base vehicle propagator interface, with no properties or methods\n",
    " - **_IAgVePropagatorJ2Perturbation_** : Class defining the J2 perturbation propagator\n",
    "\n",
    "and since the base interface **_IAgVePropagator_** didn't have anything useful for us to use, let's Cast `satProp` into it's **_IAgVePropagatorJ2Perturbation_** interface to see what we can do with that."
   ]
  },
  {
   "cell_type": "code",
   "execution_count": 72,
   "metadata": {
    "collapsed": false
   },
   "outputs": [
    {
     "data": {
      "text/plain": [
       "comtypes.POINTER(IAgVePropagatorJ2Perturbation)"
      ]
     },
     "execution_count": 72,
     "metadata": {},
     "output_type": "execute_result"
    }
   ],
   "source": [
    "satProp=satProp.QueryInterface(STKObjects.IAgVePropagatorJ2Perturbation)\n",
    "type(satProp)"
   ]
  },
  {
   "cell_type": "markdown",
   "metadata": {},
   "source": [
    "This is one of the strange cases in the STK Object Model where we initially get an \"object\" exposing a generic base Interface (**_IAgVePropagator_**), but there is no equivalent **_AgVePropagator_** (base) class or object that goes along with it.  There isn't even one in the documentation.  Instead, this propagator object is **already** an instamce of the specific **_AgVePropagatorJ2Perturbation_** class of object because it came out of the _Satellite_ object **after** it had been configured to use the J2Perturbation propagator.  It was an **_AgVePropagatorJ2Perturbation_** when the satProp variable was assigned, but it simply reverted to the most base-level's of interfaces that it had, the **_IAgVePropagator_** interface.\n",
    "\n",
    "So, if we had, just out of curiosity, tried to cast `satProp`'s interface over to an **_IAgVePropagatorJ4Perturbation_** (which is similar) we would get an error because that interface doesn't exist for a J2Perturbation propagator.\n",
    "\n",
    "Also, you cannot simply create an instance AgVePropagatorJ2Perturbation from scratch.  It has to be manufactured by a _Satellite_ object, specifically when that object is exposing it's **_IAgSatellite_** interface.  This behavior, in a manner of speaking, conforms to the \"Factory\" design pattern often used in Object Oriented programming.  Only certain factories (object class) can produce certain objects, and only when running in a particular way (interface).\n",
    "\n",
    "This also means that if you wanted, for whatever reason, to change the propagator in use, you would have to go BACK UP to the `sat2` object, change it's selected propagator to what you wanted, and re-request the `.Propagator` property to get the changed propagator object back out of it.\n",
    "\n",
    "This very particular workflow is reflected in the GUI behavior as well.  You would need to go back to the top of the GUI panel, change the Propagator selected from the dropdown list and THEN start making changes to the propagator settings.\n"
   ]
  },
  {
   "cell_type": "markdown",
   "metadata": {},
   "source": [
    "Moving forwards through the Propagator setup, we can see from the Object Model \"roadmap\" below that the InitialState property obtained from the **_IAgVePropagatorJ2Perturbation_** interface will have an **_IAgVeJxInitialState_**.  The **_Jx_** is there because this exact same interface is available for the J4Perturbation propagator as well.\n",
    "\n"
   ]
  },
  {
   "cell_type": "markdown",
   "metadata": {},
   "source": [
    "<img src=\"./images/IAgVePropagator.svg\" />\n",
    "\n",
    "This visual is derived from the published PDF of the STKv11.1 Object Model Diagram found [here](http://help.agi.com/resources/help/online/stkdevkit/11.1/ObjectModel/pdf/ObjectModel_diagram.pdf)"
   ]
  },
  {
   "cell_type": "markdown",
   "metadata": {},
   "source": [
    "#### Setting the Initial State\n",
    "Now we need to set up the Initial State conditions for this J2Perturbation propagator.\n",
    "This sequence parallels the following GUI actions:\n",
    "\n",
    "First, set the **Orbit Epoch** Time (GUI):\n",
    "<img src=\"./images/2.Set_OrbitEpoch.png\"/>\n",
    "\n",
    "and via `code`:"
   ]
  },
  {
   "cell_type": "code",
   "execution_count": 84,
   "metadata": {
    "collapsed": true
   },
   "outputs": [],
   "source": [
    "satProp.InitialState.Epoch=\"08 Jun 2016 15:14:26\""
   ]
  },
  {
   "cell_type": "markdown",
   "metadata": {
    "collapsed": true
   },
   "source": [
    "Next, change **Semimajor Axis** to **Mean Motion** and **True Anomaly** to **Mean Anomaly**\n",
    "<img src=\"./images/3.Classical_Orbital_Elements_MeanMotion_MeanAnomaly_RAAN.png\"/>\n",
    "\n",
    "This is a little trickier to follow.  Essentially the _InitialState_, in it's entirety, has a **Representation** of Type **_IAgOrbitState_** that can be manipulated.  Essentially it's the code/class/interface equivalent of all the parameters found within the dashed blue border seen above.\n",
    "\n",
    "That includes the _Coordinate Type_ {Cartesian, Classical/Keplerian, etc...}, it's _Coordinate System of Reference_ {ICRF, J2000, B1950, etc...} and the actual parameters, as appropriate, for how the Coordinates are applied.\n"
   ]
  },
  {
   "cell_type": "code",
   "execution_count": 86,
   "metadata": {
    "collapsed": false
   },
   "outputs": [
    {
     "data": {
      "text/plain": [
       "<POINTER(IAgOrbitState) ptr=0x9de1d78 at 88e7748>"
      ]
     },
     "execution_count": 86,
     "metadata": {},
     "output_type": "execute_result"
    }
   ],
   "source": [
    "type(satProp.InitialState.Representation)"
   ]
  },
  {
   "cell_type": "markdown",
   "metadata": {},
   "source": [
    "We're going to set a new variable, `keplerian`, to the _.Representation_ when it is converted to be a Classical (i.e. Keplerian) Type of parameters."
   ]
  },
  {
   "cell_type": "code",
   "execution_count": 87,
   "metadata": {
    "collapsed": true
   },
   "outputs": [],
   "source": [
    "keplerian = satProp.InitialState.Representation.ConvertTo(STKUtil.eOrbitStateClassical)"
   ]
  },
  {
   "cell_type": "code",
   "execution_count": 88,
   "metadata": {
    "collapsed": false
   },
   "outputs": [
    {
     "data": {
      "text/plain": [
       "comtypes.POINTER(IAgOrbitState)"
      ]
     },
     "execution_count": 88,
     "metadata": {},
     "output_type": "execute_result"
    }
   ],
   "source": [
    "type(keplerian)"
   ]
  },
  {
   "cell_type": "markdown",
   "metadata": {},
   "source": [
    "despite being \"converted\" to **`eOrbitStateClassical`** the `keplerian` object is still exposing the generic \"base\" **_IAgOrbitState_** interface.  We want the more specific, and applicable to our type of data, **_IAgOrbitStateClassical_** interface where we can make some changes to how both the _Size_ of the orbit (_MeanMotion_) and the _Location_ (_MeanAnomaly_) in the orbit is specified.\n",
    "\n",
    "NOTE: It's only because we want to specify these alternative _MeanMotion_ and _MeanAnomaly_ parameters, because they're convenient to describing the orbit we want, that we have to go to this extra level of detail.  The base **_IAgOrbitState_** interface actually has a few \"helper\" methods such as _AssignClassical_ where the \"traditional\" Keplerian elements can be set all at once.\n",
    "\n",
    "So, `keplerian2` gets assigned with the **_IAgOrbitStateClassical_** interface"
   ]
  },
  {
   "cell_type": "code",
   "execution_count": 112,
   "metadata": {
    "collapsed": true
   },
   "outputs": [],
   "source": [
    "keplerian2 = keplerian.QueryInterface(STKObjects.IAgOrbitStateClassical)"
   ]
  },
  {
   "cell_type": "markdown",
   "metadata": {},
   "source": [
    "and now we can get to work changing the Size, Location, and Orientation to suite how our Orbit State data is specified."
   ]
  },
  {
   "cell_type": "code",
   "execution_count": 113,
   "metadata": {
    "collapsed": true
   },
   "outputs": [],
   "source": [
    "keplerian2.SizeShapeType =STKObjects.eSizeShapeMeanMotion\n",
    "keplerian2.LocationType = STKObjects.eLocationMeanAnomaly\n",
    "keplerian2.Orientation.AscNodeType = STKObjects.eAscNodeRAAN"
   ]
  },
  {
   "cell_type": "markdown",
   "metadata": {},
   "source": [
    "One last thing we need to do prior to setting values and that's to make sure that the Units will match those of our values.  Again this parallels the GUI actions in selecting what's approriate from the unit drop-downs.\n",
    "\n",
    "NOTE: Each instance of an STK Root object can have **ONLY ONE** global set of units at any particular time.  So if you have values that are specified in multiple different units for a single kind of measurement type (angles, distance, etc...) you'll need to flip-flop to the right Unit prior to setting & assigning it.\n",
    "\n",
    "Hanging off the `root` object is a **_UnitPreferences_** property which returns a Collection of **_IAgUnitPrefsDim_** with it's own interface **_IAgUnitPrefsDimCollection_**.  In this case, while it's possible to traverse down to each _Item_ in the collection, and modify them one layer deeper there are some \"shortcuts\" you can take by \"ganging\" calls together.  Since the Collection interface has both an **_Item_** Property as well as a **_SetCurrentUnit_** method they can be combined to make the whole process a little more streamlined as one long \"call\" per Dimension and Unit as follows:"
   ]
  },
  {
   "cell_type": "code",
   "execution_count": 95,
   "metadata": {
    "collapsed": false
   },
   "outputs": [
    {
     "data": {
      "text/plain": [
       "0"
      ]
     },
     "execution_count": 95,
     "metadata": {},
     "output_type": "execute_result"
    }
   ],
   "source": [
    "root.UnitPreferences.Item('AngleUnit').SetCurrentUnit('revs')\n",
    "root.UnitPreferences.Item('TimeUnit').SetCurrentUnit('day')"
   ]
  },
  {
   "cell_type": "markdown",
   "metadata": {},
   "source": [
    "One anoying detail about how Python and the comtypes module works when interacting with Microsoft COM objects is that when a new object is referenced, if it's capable of exposing multiple Interfaces, the lowest or base class of the bunch is automatically selected, even if it doesn't have any usefull methods or properties.\n",
    "\n",
    "Case in point: the SizeShape property of our `keplerian2` object. "
   ]
  },
  {
   "cell_type": "code",
   "execution_count": 129,
   "metadata": {
    "collapsed": false
   },
   "outputs": [
    {
     "data": {
      "text/plain": [
       "comtypes.POINTER(IAgClassicalSizeShape)"
      ]
     },
     "execution_count": 129,
     "metadata": {},
     "output_type": "execute_result"
    }
   ],
   "source": [
    "type(keplerian2.SizeShape)"
   ]
  },
  {
   "cell_type": "markdown",
   "metadata": {},
   "source": [
    "We can see that despite having been \"set\" to a Type enumeration of _eSizeShapeMeanMotion_ a few cells above, it still defaults to the **_IAgClassicalSizeShape_** interface, which is simply a base class for all the following co-classes:\n",
    "- **_AgClassicalSizeShapeAltitude_**\n",
    "- **_AgClassicalSizeShapeMeanMotion_**\n",
    "- **_AgClassicalSizeShapePeriod_**\n",
    "- **_AgClassicalSizeShapeRadius_**\n",
    "- **_AgClassicalSizeShapeSemimajorAxis_**\n",
    "- **_AgEquinoctialSizeShapeMeanMotion_**\n",
    "- **_AgEquinoctialSizeShapeSemimajorAxis_**\n",
    "\n",
    "each of which having an equivalently specific {...|Altitude|MeanMotion|Period|Radius|SemimajorAxis} Interface as well as the **_IAgClassicalSizeShape_** base interface.\n",
    "\n",
    "Since our SizeShape is actually an instance of the **_AgClassicalSizeShapeMeanMotion_** class, the only usefull & specific interface is the **_IAgClassicalSizeShapeMeanMotion_** one.\n",
    "\n",
    "Knowing this apriori, as we get more familiar reading through how the documentation is structured, we can \"quick-cast\" the interface into the interface that we know will work for us, tacking on the **_.MeanMotion_** property because we know it's going to be there.\n",
    "\n",
    "The process looks like this:"
   ]
  },
  {
   "cell_type": "code",
   "execution_count": 130,
   "metadata": {
    "collapsed": false
   },
   "outputs": [],
   "source": [
    "keplerian2.SizeShape.QueryInterface(STKObjects.IAgClassicalSizeShapeMeanMotion).MeanMotion = 15.08385840"
   ]
  },
  {
   "cell_type": "code",
   "execution_count": 131,
   "metadata": {
    "collapsed": true
   },
   "outputs": [],
   "source": [
    "keplerian2.SizeShape.QueryInterface(STKObjects.IAgClassicalSizeShapeMeanMotion).Eccentricity = 0.0002947"
   ]
  },
  {
   "cell_type": "markdown",
   "metadata": {},
   "source": [
    "Rememberr that our **'AngleUnit'** and **'TimeUnit'** are both still set to **'revs'** and **'days'** respectively from a few cells above. To properly assign the following angular values as degrees we need to flip-flop back to **'deg'**.  We'll change the **'TimeUnit'** as well because 'seconds' is a common default for units that we're going to be referencing later on."
   ]
  },
  {
   "cell_type": "code",
   "execution_count": 132,
   "metadata": {
    "collapsed": true
   },
   "outputs": [],
   "source": [
    "root.UnitPreferences.Item('AngleUnit').SetCurrentUnit('deg')\n",
    "root.UnitPreferences.Item('TimeUnit').SetCurrentUnit('sec')\n",
    "keplerian2.Orientation.Inclination = 2.84703\n",
    "keplerian2.Orientation.ArgOfPerigee = 114.7239"
   ]
  },
  {
   "cell_type": "markdown",
   "metadata": {},
   "source": [
    "Once again, the \"base Class\" Interface selection mechanism used by Python is going to trip us up.  For the `keplerian2` object both the **_.Orientation.AscNode_** and **_.Location_** will default to fairly useless **_IAgOrientationAscNode_** and **_IAgClassicalLocation_** interfaces respectively.  We need the **_.Orientation.AscNode_** returned object to expose its **_IAgOrientationAscNodeRAAN_** interface in order to set the RAAN Value.  We also want the **_.Location_** returned object to expose its **_IAgClassicalLocationMeanAnomaly_** interface so we can set the Mean Anomaly value as well.\n",
    "\n",
    "Again, in-line \"quick-casting\" to interfaces that we already know, and expect to see, can be done to streamline the code, albeit at the expense of loosing a bit of tab-completion interactivity."
   ]
  },
  {
   "cell_type": "code",
   "execution_count": 135,
   "metadata": {
    "collapsed": true
   },
   "outputs": [],
   "source": [
    "keplerian2.Orientation.AscNode.QueryInterface(STKObjects.IAgOrientationAscNodeRAAN).Value = 315.1965\n",
    "keplerian2.Location.QueryInterface(STKObjects.IAgClassicalLocationMeanAnomaly).Value = 332.9096"
   ]
  },
  {
   "cell_type": "markdown",
   "metadata": {},
   "source": [
    "We're almost done with this Propagator.  Now that all the properties are properly set in the `keplerian` object, we can Assign it back into the InitialState.Representation of the propagator itself.\n",
    "\n",
    "This is an important step that **MUST** be done in order for the propagator to \"learn\" about all these updated values. Simply updating the `keplerian` variable will NOT affect the \"factory\" Propagator where it was produced.  It has to be explicitly Assigned back in order to take effect."
   ]
  },
  {
   "cell_type": "code",
   "execution_count": 136,
   "metadata": {
    "collapsed": false
   },
   "outputs": [
    {
     "data": {
      "text/plain": [
       "0"
      ]
     },
     "execution_count": 136,
     "metadata": {},
     "output_type": "execute_result"
    }
   ],
   "source": [
    "satProp.InitialState.Representation.Assign(keplerian)"
   ]
  },
  {
   "cell_type": "markdown",
   "metadata": {},
   "source": [
    "The last step is to tell the Propagator to **_.Propagate_**.  Without this step, none of the position data will be calculated and the Satellite will remain in a partially configured state. All the properties will have been set, but the code used to to take those properties and calculate its position over its time span won't execute."
   ]
  },
  {
   "cell_type": "code",
   "execution_count": 137,
   "metadata": {
    "collapsed": false
   },
   "outputs": [
    {
     "data": {
      "text/plain": [
       "0"
      ]
     },
     "execution_count": 137,
     "metadata": {},
     "output_type": "execute_result"
    }
   ],
   "source": [
    "satProp.Propagate()"
   ]
  },
  {
   "cell_type": "code",
   "execution_count": null,
   "metadata": {
    "collapsed": true
   },
   "outputs": [],
   "source": []
  }
 ],
 "metadata": {
  "anaconda-cloud": {},
  "kernelspec": {
   "display_name": "Python [default]",
   "language": "python",
   "name": "python3"
  },
  "language_info": {
   "codemirror_mode": {
    "name": "ipython",
    "version": 3
   },
   "file_extension": ".py",
   "mimetype": "text/x-python",
   "name": "python",
   "nbconvert_exporter": "python",
   "pygments_lexer": "ipython3",
   "version": "3.5.1"
  },
  "nbpresent": {
   "slides": {
    "d8a6a31b-02b1-493c-900a-905366874d53": {
     "id": "d8a6a31b-02b1-493c-900a-905366874d53",
     "prev": null,
     "regions": {
      "df40f99c-024e-47ef-b896-c572d1849f92": {
       "attrs": {
        "height": 1,
        "width": 1,
        "x": 0,
        "y": 0
       },
       "id": "df40f99c-024e-47ef-b896-c572d1849f92"
      }
     }
    }
   },
   "themes": {}
  }
 },
 "nbformat": 4,
 "nbformat_minor": 0
}
