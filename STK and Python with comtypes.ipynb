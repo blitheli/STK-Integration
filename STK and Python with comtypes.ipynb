{
 "cells": [
  {
   "cell_type": "code",
   "execution_count": 1,
   "metadata": {
    "collapsed": false,
    "nbpresent": {
     "id": "444a7e58-d9f6-43e0-b835-d404783683f2"
    },
    "slideshow": {
     "slide_type": "skip"
    }
   },
   "outputs": [
    {
     "data": {
      "text/plain": [
       "'3.0.2'"
      ]
     },
     "execution_count": 1,
     "metadata": {},
     "output_type": "execute_result"
    }
   ],
   "source": [
    "import nbpresent\n",
    "nbpresent.__version__"
   ]
  },
  {
   "cell_type": "markdown",
   "metadata": {
    "nbpresent": {
     "id": "be3d5745-153d-4e5f-a061-68b6a4b10be9"
    },
    "slideshow": {
     "slide_type": "slide"
    }
   },
   "source": [
    "\n",
    "# STK Integration with Python\n",
    "<br/>\n",
    "<br/>\n",
    "## Frank Snyder\n",
    "<br/>\n",
    "### Product Evangelist - Analytical Graphics, Inc.\n",
    "#### fsnyder@agi.com\n",
    "#### www.agi.com\n",
    "https://github.com/agifsnyder/STK-Integration/"
   ]
  },
  {
   "cell_type": "markdown",
   "metadata": {
    "nbpresent": {
     "id": "132610c8-7927-486d-be22-15f3e02a78a9"
    },
    "slideshow": {
     "slide_type": "subslide"
    }
   },
   "source": [
    "### - Discover how to navigate the STK API and Automate interaction with Objects and Tools in a Scenario through scientific scripting languages like MATLAB and Python"
   ]
  },
  {
   "cell_type": "markdown",
   "metadata": {
    "nbpresent": {
     "id": "929984ee-572e-46c6-8ee6-c005077a6993"
    },
    "slideshow": {
     "slide_type": "fragment"
    }
   },
   "source": [
    "### - Learn how to use an interactive (REPL) interface in both languages to better understand how the STK API is organized"
   ]
  },
  {
   "cell_type": "markdown",
   "metadata": {
    "nbpresent": {
     "id": "71665d79-82f2-4169-a797-65aaf4eb670b"
    },
    "slideshow": {
     "slide_type": "fragment"
    }
   },
   "source": [
    "### - Determine how to leverage the iPython Notebook interface with STK to better document trade studies and present results"
   ]
  },
  {
   "cell_type": "markdown",
   "metadata": {
    "nbpresent": {
     "id": "f2ed1d3c-a719-4e57-ad04-e29ad90817fd"
    },
    "slideshow": {
     "slide_type": "slide"
    }
   },
   "source": [
    "# STK Interfaces (over time)"
   ]
  },
  {
   "cell_type": "markdown",
   "metadata": {
    "slideshow": {
     "slide_type": "subslide"
    }
   },
   "source": [
    "HTML Tests with custom.css\n",
    "<pstyle=\"text-align: left;\">left aligned </p>\n",
    "<p style=\"text-align: right;\">right aligned</p>\n",
    "<div><p>  this </p> is in the footer ID </div>"
   ]
  },
  {
   "cell_type": "markdown",
   "metadata": {
    "nbpresent": {
     "id": "410dbed7-cd8c-4837-a1cf-709585359f7a"
    },
    "slideshow": {
     "slide_type": "subslide"
    }
   },
   "source": [
    "## In the beginning...\n",
    "<br/>\n",
    "<div style=\"width:500px; margin: 0 auto; border: 1px solid red;\">\n",
    "<figure>\n",
    "  <img src=\"./images/InView_STKv2.0_Aug1992.png\" width=\"100%\" height=\"100%\" style=\"margin: 0 auto; border: 1px solid red;\"/>\n",
    "  <figcaption style=\"text-align: center;\"><strong>STK 2.0 - The GUI</strong></figcaption>\n",
    "</figure>\n",
    "</div>\n"
   ]
  },
  {
   "cell_type": "markdown",
   "metadata": {
    "nbpresent": {
     "id": "a74c54b2-d7cb-4606-a626-e116254ec394"
    },
    "slideshow": {
     "slide_type": "subslide"
    }
   },
   "source": [
    "<div style=\"width:600px; margin: 0 auto; border: 1px solid red;\">\n",
    "<figure>\n",
    "  <img src=\"./images/InView_STKv3.0_1995.png\" width=\"85%\" height=\"70%\" style=\"margin: 0 auto; border: 1px solid red;\"; />\n",
    "  <figcaption style=\"text-align: center;\"><strong>STK 3.0.  NOW With Color GUI !!</strong></figcaption>\n",
    "</figure>\n",
    "</div>"
   ]
  },
  {
   "cell_type": "markdown",
   "metadata": {
    "nbpresent": {
     "id": "182dc473-a084-476d-956c-836d038aaece"
    },
    "slideshow": {
     "slide_type": "subslide"
    }
   },
   "source": [
    "<div style=\"width:800px; margin: 0 auto;\">\n",
    " <div style=\"width:350px; display: inline-block; float:left; margin: 0 auto; border: 1px solid red;\">\n",
    "  <figure>\n",
    "   <img src=\"./images/InView_ColorBrowserWindow_1995.png\" width=\"80%\" height=\"50%\" style=\"margin: 0 auto; border: 1px solid red;\"/>\n",
    "   <figcaption style=\"font-size: large; text-align: center;\"><strong>STK3.0 Object Browser.</strong></figcaption>\n",
    "  </figure>\n",
    " </div>\n",
    "\n",
    " <div style=\"width:350px; display: inline-block; float:right; margin: 0 auto; border: 1px solid red\">\n",
    "  <figure>\n",
    "   <img src=\"./images/InView_FeedbackOnSTK3.0_IPC_1995.png\" width=\"80%\" height=\"50%\" style=\"margin: 0 auto; border: 1px solid red;\"/>\n",
    "   <figcaption style=\"font-size: large; text-align: center;\"><strong>Feedback of STK3.0 IPCv2.0.<strong></figcaption>\n",
    "  </figure>\n",
    " </div>\n",
    "</div>"
   ]
  },
  {
   "cell_type": "markdown",
   "metadata": {
    "nbpresent": {
     "id": "dfea0234-bc1b-49d0-b985-238ed37746e7"
    },
    "slideshow": {
     "slide_type": "subslide"
    }
   },
   "source": [
    "## STK/IPC\n",
    "- <strong>A text-based, CLI-like syntax over TCP/IP</strong>\n",
    "  - `New / Scenario \"My_New_Scenario\"`\n",
    "  - `SetPosition */Satellite/Shuttle LLA \"1 Nov 2000 04:01:00.00\" -19 8 372800 -0.23 0.058 0.002`\n",
    "  - `Report_RM */Satellite/Shuttle Style \"Lighting Times\" TimePeriod \"1 Nov 2000 00:00:00.00\" \"1 Nov 2000 04:00:00.00\" TimeStep 30`\n",
    "\n",
    "#### rebranded as \"STK/Connect\""
   ]
  },
  {
   "cell_type": "markdown",
   "metadata": {
    "nbpresent": {
     "id": "0b3b3168-2433-4142-91f4-c4094e6057fd"
    },
    "slideshow": {
     "slide_type": "subslide"
    }
   },
   "source": [
    "- PLUS: Syntax was human readable\n",
    "- <span style=\"background:black; color:white; padding:2px;\"> MINUS: Error reporting wasn't </span>\n",
    "\n",
    "\n",
    "- PLUS: Simple to form\n",
    "- <span style=\"background:black; color:white;  padding:2px;\"> MINUS: Limited because of Strings < 255 characters </span>\n",
    "\n",
    "\n",
    "- PLUS: \"Easy\" to Request Data\n",
    "- <span style=\"background:black; color:white; padding:2px; \"> MINUS: Parsing Returned Data was \"hard\" </span>"
   ]
  },
  {
   "cell_type": "markdown",
   "metadata": {
    "nbpresent": {
     "id": "fab75c41-ac16-4af1-a57a-c0378fa1eb11"
    },
    "slideshow": {
     "slide_type": "fragment"
    }
   },
   "source": [
    "\"Connect\" drove the Comp-Sci guys nuts..."
   ]
  },
  {
   "cell_type": "markdown",
   "metadata": {
    "nbpresent": {
     "id": "787f80b3-1a0d-4224-8a14-2727500a510b"
    },
    "slideshow": {
     "slide_type": "subslide"
    }
   },
   "source": [
    "## ~2002/'03 - STKv5.0\n",
    "<div style=\"width:600px;  margin: 0 auto;border: 1px solid red;\">\n",
    " <figure>\n",
    "  <img src=\"./images/InView_ExperienceSTK5.0_UC2003.png\"  width=\"100%\" height=\"70%\" style=\"margin: 0 auto; border: 1px solid red;\"/>\n",
    "  <figcaption style=\"text-align: center;\"><strong>STK 5.0 Object Model</strong></figcaption>\n",
    " </figure>\n",
    "</div>\n",
    "### The STK Object Model\n",
    "- Windows COM based\n",
    "- Classes/Interfaces/Events\n"
   ]
  },
  {
   "cell_type": "markdown",
   "metadata": {
    "nbpresent": {
     "id": "6a098ac1-fddc-464a-b067-d5ceb3f924e6"
    },
    "slideshow": {
     "slide_type": "subslide"
    }
   },
   "source": [
    "## But how to organize it ?\n",
    "<div style=\"width:200px; margin: 0 auto;border: 1px solid red;\">\n",
    " <figure>\n",
    "  <img src=\"./images/chicken-or-egg.png\" width=\"90%\" height=\"80%\"  style=\"margin: 0 auto; border: 1px solid red;\"/>\n",
    "  <figcaption style=\"text-align: center;\"><strong>Which Comes FIRST?</strong></figcaption>\n",
    " </figure>\n",
    "</div>\n",
    "\n",
    "## Go back to the begining...  The GUI !!"
   ]
  },
  {
   "cell_type": "markdown",
   "metadata": {
    "slideshow": {
     "slide_type": "slide"
    }
   },
   "source": [
    "# Coding Environments"
   ]
  },
  {
   "cell_type": "markdown",
   "metadata": {
    "collapsed": true,
    "nbpresent": {
     "id": "e88ba1ce-cfe3-47d0-ad88-8aaa66fb6010"
    },
    "slideshow": {
     "slide_type": "skip"
    }
   },
   "source": [
    "## We're going to need the following things:\n",
    "### - A working instance of Python, complete with the following modules\n",
    "  - comtypes, pandas, IPython as well as a working Jupyter Notebooks environment\n",
    "\n",
    "The simplest way to set up the right kind of Python environment is to download the Anaconda Python installer from Continuum Analytics [here](https://www.continuum.io/downloads). Not only is it extremely complete in terms of useful scientific libraries, it's **Free** and properly licensed for both Personal as well as Commercial Use, including redistribution.\n",
    "We'll pick the right 32/64-bit version for our Windows Operating System, and it's highly recommend to stick with the Python 3.5 version (unless there is a specific dependency that's known already to have to use Python 2.7)\n",
    "It's also recommended to let the installer default to installing in the local user folders rather than in a Global {Program Files} kind of location.  _This avoids the need to have Administrative priviledges to perform the install._\n",
    "\n",
    "### - A properly installed, and licensed, instance of STKv11.1, which can be requested [here](http://www.agi.com/products/stk/license/).\n",
    "  - Specifically we will need the STK/Integration License which activates the STK API for use by external environments, like Python|Matlab|Java|etc...\n",
    "\n",
    "### - A working internet connection if you wish to explore the STK Online documentation linked below in this Notebook"
   ]
  },
  {
   "cell_type": "markdown",
   "metadata": {
    "nbpresent": {
     "id": "737cf240-8959-4719-ad23-a4c5ed026b56"
    },
    "slideshow": {
     "slide_type": "skip"
    }
   },
   "source": [
    "First we set up a few imports to gain access to their nested properties and functions."
   ]
  },
  {
   "cell_type": "code",
   "execution_count": 2,
   "metadata": {
    "collapsed": true,
    "nbpresent": {
     "id": "4fbfdb98-e0ed-4d18-9802-1d9eeb347106"
    },
    "slideshow": {
     "slide_type": "skip"
    }
   },
   "outputs": [],
   "source": [
    "from win32api import GetSystemMetrics\n",
    "from IPython.display import Image, display, SVG\n",
    "import os as os"
   ]
  },
  {
   "cell_type": "markdown",
   "metadata": {
    "nbpresent": {
     "id": "c32f2249-b2e3-46ca-bd5f-67184b2c91e5"
    },
    "slideshow": {
     "slide_type": "skip"
    }
   },
   "source": [
    "Now we need to import references to `comtypes` and some of it's methods so we can tie to the STK COM-based objects."
   ]
  },
  {
   "cell_type": "code",
   "execution_count": 3,
   "metadata": {
    "collapsed": false,
    "nbpresent": {
     "id": "6e712912-7c13-4b9a-b03a-17bb735ff388"
    },
    "slideshow": {
     "slide_type": "slide"
    }
   },
   "outputs": [],
   "source": [
    "import comtypes\n",
    "from comtypes.client import CreateObject"
   ]
  },
  {
   "cell_type": "markdown",
   "metadata": {
    "nbpresent": {
     "id": "3b7b30e0-4bf4-4240-b3c2-828ebb7f5d78"
    },
    "slideshow": {
     "slide_type": "skip"
    }
   },
   "source": [
    "### Let's start by creating a new running instance of the STK (AgUiApplication) Application"
   ]
  },
  {
   "cell_type": "code",
   "execution_count": 4,
   "metadata": {
    "collapsed": false,
    "nbpresent": {
     "id": "1968066e-f4b7-4b93-9186-ea601bfd46f7"
    },
    "slideshow": {
     "slide_type": "fragment"
    }
   },
   "outputs": [],
   "source": [
    "app=CreateObject(\"STK11.Application\")"
   ]
  },
  {
   "cell_type": "markdown",
   "metadata": {
    "nbpresent": {
     "id": "1aa80841-5190-4664-b3db-b414016649bf"
    },
    "slideshow": {
     "slide_type": "skip"
    }
   },
   "source": [
    " If this is the first time you're running this Notebook against STKv11.1, you might see the following:\n",
    "\n",
    "```\n",
    "# Generating comtypes.gen._781C4C18_C2C9_4E16_B620_7B22BC8DE954_0_1_0\n",
    "# Generating comtypes.gen._00020430_0000_0000_C000_000000000046_0_2_0\n",
    "# Generating comtypes.gen.stdole\n",
    "# Generating comtypes.gen._9B797FC6_9EF1_4779_9691_A85B091560A1_0_1_0\n",
    "# Generating comtypes.gen.AgUiCoreLib\n",
    "# Generating comtypes.gen.AgUiApplicationLib\n",
    "```\n",
    "\n",
    "as `comtypes` generates Python \"wrappers\" around the Classes and Interfaces found at the **_AgUiApplication_** level.\n",
    "\n",
    "\n",
    "let's check what kind of object we've been given back. To do that we can use the Python `type()`\n",
    "call and pass in the variable referencing the object we're interested in."
   ]
  },
  {
   "cell_type": "code",
   "execution_count": 5,
   "metadata": {
    "collapsed": false,
    "nbpresent": {
     "id": "8512c048-4217-4450-b54f-90a0085022c6"
    },
    "slideshow": {
     "slide_type": "fragment"
    }
   },
   "outputs": [
    {
     "data": {
      "text/plain": [
       "comtypes.POINTER(_IAgUiApplication)"
      ]
     },
     "execution_count": 5,
     "metadata": {},
     "output_type": "execute_result"
    }
   ],
   "source": [
    "type(app)"
   ]
  },
  {
   "cell_type": "markdown",
   "metadata": {
    "nbpresent": {
     "id": "964e8c08-d589-4afd-ba57-d68c6074c872"
    },
    "slideshow": {
     "slide_type": "notes"
    }
   },
   "source": [
    "It's important to recognize that we're getting a **POINTER** to the **_IAgUiApplication_** which is normal behavior for Python.  This means that this variable points-to the representation of the **_AgUiApplication_** class, or instance of that class in memory."
   ]
  },
  {
   "cell_type": "markdown",
   "metadata": {
    "nbpresent": {
     "id": "eb6ef7f0-e04a-4aef-8745-e3b763bff918"
    },
    "slideshow": {
     "slide_type": "notes"
    }
   },
   "source": [
    "Let's also point out the **very** important difference between the _Object_ that is **_AgUiApplication_** and the _Interface_ **_IAgUiApplication_** that it exposes for use. As per AGI's naming conventions used in the API, you can usually knock the **_I_** off the front end of the keyword to figure out what kind of object it is, as opposed to what kind of interface it's currently exposing."
   ]
  },
  {
   "cell_type": "code",
   "execution_count": 6,
   "metadata": {
    "collapsed": true,
    "nbpresent": {
     "id": "6a2caa91-0cd9-4aac-b8cf-123d7bd4f46a"
    },
    "slideshow": {
     "slide_type": "fragment"
    }
   },
   "outputs": [],
   "source": [
    "app.Visible=True\n",
    "app.UserControl=True"
   ]
  },
  {
   "cell_type": "markdown",
   "metadata": {
    "nbpresent": {
     "id": "946b3995-ac85-409e-aa2f-6eb4d6104287"
    },
    "slideshow": {
     "slide_type": "notes"
    }
   },
   "source": [
    "As per most Windows Applications, this is where you can usually do things like position and resize the Application's main window.  Here we're going to place it on the left side of the screen, extending halfway to the right."
   ]
  },
  {
   "cell_type": "code",
   "execution_count": 7,
   "metadata": {
    "collapsed": false,
    "nbpresent": {
     "id": "aaf6db26-e0df-469f-b640-b1b5dc9f0ec1"
    },
    "slideshow": {
     "slide_type": "fragment"
    }
   },
   "outputs": [],
   "source": [
    "app.Top=0\n",
    "app.Left=0\n",
    "app.Width=int(GetSystemMetrics(0)/2)\n",
    "app.Height=int(GetSystemMetrics(1)-30)"
   ]
  },
  {
   "cell_type": "markdown",
   "metadata": {
    "nbpresent": {
     "id": "f6e49337-6a8a-462f-8ed0-6ff52fdd547f"
    },
    "slideshow": {
     "slide_type": "skip"
    }
   },
   "source": [
    "#### Now lets get to work. \n",
    "We need to start using the STK Object model, and to do that we want to get a reference to the Object Model Tree itself.\n",
    "In AGI terms, we refer to the particular version of the structure of that Object Model as it's \"Personality\".  To date there are two existing versions of that structure, and we want to use the latest one, simply called **_Personality2_**"
   ]
  },
  {
   "cell_type": "code",
   "execution_count": 8,
   "metadata": {
    "collapsed": false,
    "nbpresent": {
     "id": "f7eeda8d-4f4d-48b2-b165-d7ddf512c185"
    },
    "slideshow": {
     "slide_type": "subslide"
    }
   },
   "outputs": [],
   "source": [
    "root=app.Personality2"
   ]
  },
  {
   "cell_type": "markdown",
   "metadata": {
    "nbpresent": {
     "id": "cb0bc5ad-2ea7-42df-89bb-aaf1c7b59daf"
    },
    "slideshow": {
     "slide_type": "notes"
    }
   },
   "source": [
    "If this is the first time you've run this Notebook, you'll see how the Python `comtypes` module generates Python \"wrappers\" around the rest of the Classes and Interfaces that are defined in the STK Object Model Tree, from the root level on down:\n",
    "\n",
    "```\n",
    "# Generating comtypes.gen._D6A1725B_89FF_43A4_995B_7F055549F4EB_0_1_0\n",
    "# Generating comtypes.gen._00DD7BD4_53D5_4870_996B_8ADB8AF904FA_0_1_0\n",
    "# Generating comtypes.gen.STKUtil\n",
    "# Generating comtypes.gen._8B49F426_4BF0_49F7_A59B_93961D83CB5D_0_1_0\n",
    "# Generating comtypes.gen.AgSTKVgtLib\n",
    "# Generating comtypes.gen._42D2781B_8A06_4DB2_9969_72D6ABF01A72_0_1_0\n",
    "# Generating comtypes.gen.AgSTKGraphicsLib\n",
    "# Generating comtypes.gen.STKObjects\n",
    "```\n",
    "\n",
    "Two of the top-level ones we care about, and will be using repeatedly through our introductory exploration of the STK Object Model API are:\n",
    "- **STKUtil**\n",
    "- **STKObjects**\n",
    "\n",
    "lets keep their python \"paths\" in mind so we can import them later.  If you've run a python script that used `comtypes` to \"touch\" STK in the past, those generated wrappers will already exist in the `comtypes.client.gen-dir` folder location"
   ]
  },
  {
   "cell_type": "code",
   "execution_count": 9,
   "metadata": {
    "collapsed": false,
    "nbpresent": {
     "id": "dcc33070-bda9-4591-b372-c5b0decb3c8e"
    },
    "slideshow": {
     "slide_type": "skip"
    }
   },
   "outputs": [
    {
     "data": {
      "text/plain": [
       "'C:\\\\Users\\\\fsnyder\\\\AppData\\\\Local\\\\Continuum\\\\Anaconda3\\\\lib\\\\site-packages\\\\comtypes\\\\gen'"
      ]
     },
     "execution_count": 9,
     "metadata": {},
     "output_type": "execute_result"
    }
   ],
   "source": [
    "comtypes.client.gen_dir"
   ]
  },
  {
   "cell_type": "code",
   "execution_count": 10,
   "metadata": {
    "collapsed": false,
    "nbpresent": {
     "id": "a707410c-9240-4aa9-8707-2f9c4e8e1a16"
    },
    "slideshow": {
     "slide_type": "skip"
    }
   },
   "outputs": [
    {
     "data": {
      "text/plain": [
       "['AgSTKGraphicsLib.py',\n",
       " 'AgSTKVgtLib.py',\n",
       " 'AgUiApplicationLib.py',\n",
       " 'AgUiCoreLib.py',\n",
       " 'stdole.py',\n",
       " 'STKObjects.py',\n",
       " 'STKUtil.py',\n",
       " '_00020430_0000_0000_C000_000000000046_0_2_0.py',\n",
       " '_00DD7BD4_53D5_4870_996B_8ADB8AF904FA_0_1_0.py',\n",
       " '_42D2781B_8A06_4DB2_9969_72D6ABF01A72_0_1_0.py',\n",
       " '_781C4C18_C2C9_4E16_B620_7B22BC8DE954_0_1_0.py',\n",
       " '_8B49F426_4BF0_49F7_A59B_93961D83CB5D_0_1_0.py',\n",
       " '_9B797FC6_9EF1_4779_9691_A85B091560A1_0_1_0.py',\n",
       " '_D6A1725B_89FF_43A4_995B_7F055549F4EB_0_1_0.py',\n",
       " '__init__.py',\n",
       " '__pycache__']"
      ]
     },
     "execution_count": 10,
     "metadata": {},
     "output_type": "execute_result"
    }
   ],
   "source": [
    "os.listdir(comtypes.client.gen_dir)"
   ]
  },
  {
   "cell_type": "markdown",
   "metadata": {
    "nbpresent": {
     "id": "b7ca397d-29fe-49a7-9f9f-3cfaffbc882d"
    },
    "slideshow": {
     "slide_type": "notes"
    }
   },
   "source": [
    "It's important to know where these cached python wrappers are located in case you want to remove them, like when trying to use this same script against a different version of STK.  At the time of writing this, we're using STKv11.1, so the classID's you see listed in that folder reflect the \"current\" version of each Type Library used by STKv11.1\n",
    "\n",
    "In general, those classID's won't change except for released updates at the \"Major Number\" level of STK, such as STKv9.x.x, STKv10.x.x, STKv11.x.x, etc...\n",
    "\n",
    "As a general rule of thumb, you'll want to clear the contents of the `gen` folder of the STK wrappers after you've done a major number upgrade of STK.\n",
    "\n"
   ]
  },
  {
   "cell_type": "markdown",
   "metadata": {
    "nbpresent": {
     "id": "349888eb-0f4b-47c5-afd8-c7c51caedc96"
    },
    "slideshow": {
     "slide_type": "skip"
    }
   },
   "source": [
    "#### So, now let's also check what kind of object we've been given back."
   ]
  },
  {
   "cell_type": "code",
   "execution_count": 11,
   "metadata": {
    "collapsed": false,
    "nbpresent": {
     "id": "47969306-6d4f-43f0-916d-f4a4ee5021c9"
    },
    "slideshow": {
     "slide_type": "fragment"
    }
   },
   "outputs": [
    {
     "data": {
      "text/plain": [
       "comtypes.POINTER(_IAgStkObjectRoot)"
      ]
     },
     "execution_count": 11,
     "metadata": {},
     "output_type": "execute_result"
    }
   ],
   "source": [
    "type(root)"
   ]
  },
  {
   "cell_type": "markdown",
   "metadata": {
    "nbpresent": {
     "id": "8834231a-05ec-4ec6-bd2f-ffd67f265803"
    }
   },
   "source": [
    "The Interface is named **_IAgStkObjectRoot_** **NOT** **_IAgStkObject_** (no root) so it looks like a \"special\" kind of STK object, and it is.  The Root object in the STK API sits at the very **top** of the Object Heirarchy Tree.\n",
    "\n",
    "#### From this `root` object we can reach all the sub-objects, methods, and properties by traversing the API Object Model."
   ]
  },
  {
   "cell_type": "markdown",
   "metadata": {
    "nbpresent": {
     "id": "48608613-0bc1-4186-a27b-ea753faa1c40"
    }
   },
   "source": [
    "wNext, we're going to assign two new variables to the autogenerated Python wrappers of the STK Classes found in `comtypes.gen.STKObjects` and `comtypes.gen.STKUtil`.  These will be useful when transitioning between Interfaces exposed by each STK object we will use, as well as all the readable Enumerations (ex. eScenario = 19)"
   ]
  },
  {
   "cell_type": "code",
   "execution_count": 12,
   "metadata": {
    "collapsed": false,
    "nbpresent": {
     "id": "210f672f-0c79-4eb1-80a2-f9e15da46375"
    }
   },
   "outputs": [],
   "source": [
    "from comtypes.gen import STKUtil\n",
    "from comtypes.gen import STKObjects"
   ]
  },
  {
   "cell_type": "markdown",
   "metadata": {
    "nbpresent": {
     "id": "2db948a3-6283-402b-a033-a91df5cb7d68"
    }
   },
   "source": [
    "### Now let's create a Scenario, the start of any kind of STK-related work"
   ]
  },
  {
   "cell_type": "code",
   "execution_count": 13,
   "metadata": {
    "collapsed": false,
    "nbpresent": {
     "id": "bc8446b4-7de8-419f-8829-7bc4e29b1b00"
    }
   },
   "outputs": [
    {
     "data": {
      "text/plain": [
       "0"
      ]
     },
     "execution_count": 13,
     "metadata": {},
     "output_type": "execute_result"
    }
   ],
   "source": [
    "root.NewScenario(\"IPython_DIY\")"
   ]
  },
  {
   "cell_type": "markdown",
   "metadata": {
    "nbpresent": {
     "id": "1bfdd099-4ec5-42dc-9dd8-25b79d05a504"
    }
   },
   "source": [
    "and lets set the variable `sc` to the current scenario using the exposed **CurrentScenario** method off the `root` object"
   ]
  },
  {
   "cell_type": "code",
   "execution_count": 14,
   "metadata": {
    "collapsed": false,
    "nbpresent": {
     "id": "8fc6857a-f788-4bac-bab3-de126a0a0b57"
    }
   },
   "outputs": [],
   "source": [
    "sc=root.CurrentScenario"
   ]
  },
  {
   "cell_type": "code",
   "execution_count": 15,
   "metadata": {
    "collapsed": false,
    "nbpresent": {
     "id": "82663576-3fe9-4f22-b9ae-77dbff50890e"
    }
   },
   "outputs": [
    {
     "data": {
      "text/plain": [
       "comtypes.POINTER(IAgStkObject)"
      ]
     },
     "execution_count": 15,
     "metadata": {},
     "output_type": "execute_result"
    }
   ],
   "source": [
    "type(sc)"
   ]
  },
  {
   "cell_type": "markdown",
   "metadata": {
    "nbpresent": {
     "id": "344f2cd2-ad63-4d0b-a6fc-b30be7e7cc59"
    }
   },
   "source": [
    "The object interface we get back is of type **_IAgStkObject_** which is a generic base class for **every** Object found in STK.  As such, {_Satellites, Ships, Aircraft, Facilities_, etc...} ALL implement the **_IAgStkObject_** interface consistently accross their respective Classes, including the _Scenario_ itself, but for our next step we need to work with _Scenario_-specific kind of properties and methods, such as the `SetTimePeriod()` method, which are only going to be found when the `sc` Object \"behaves\" like a _Scenario_ rather than a generic StkObject, so we need to \"cast\" the `sc` object into it's **_IAgScenario_** Interface.  \n",
    "\n",
    "We do that via the `QueryInterface`() generic method that Python added onto the `sc` object returned by STK's `root` Object, and for future convenience, simply set a different `sc2` object to that change. Now we can use both the generic **_IAgStkObject_** features of the _Scenario_ by using the `sc` variable, and the more _Scenario_-specific ones of **_IAgScenario_** by using the `sc2` variable.\n",
    "\n",
    "If you forget which one represents which exposed interface at any time, you can simply use the tab-completion feature to see what Properties and Methods exist for each `sc`/`sc2` variable.\n",
    "\n",
    "\n",
    "We use the `STKObjects.IAgScenario` \"knowledge\" gained when the STK Type Libraries were scanned and those equivalent Python Classes created. Both `sc` and `sc2` \"point\" to the very same object, but different exposed interfaces.\n",
    "##### Online docs for [_IAgSTKObject_](http://help.agi.com/resources/help/online/stkdevkit/11.1/index.html?page=source%2Fextfile%2FSTKObjects%2FSTKObjects~IAgStkObject.html)\n",
    "\n",
    "##### Online docs for [_IAgSCenario_](http://help.agi.com/resources/help/online/stkdevkit/11.1/index.html?page=source%2Fextfile%2FSTKObjects%2FSTKObjects~IAgScenario.html)"
   ]
  },
  {
   "cell_type": "code",
   "execution_count": 16,
   "metadata": {
    "collapsed": false,
    "nbpresent": {
     "id": "71eb2443-994a-4340-83c5-447c4fd9caa7"
    }
   },
   "outputs": [
    {
     "data": {
      "text/plain": [
       "comtypes.POINTER(IAgScenario)"
      ]
     },
     "execution_count": 16,
     "metadata": {},
     "output_type": "execute_result"
    }
   ],
   "source": [
    "sc2=sc.QueryInterface(STKObjects.IAgScenario)\n",
    "type(sc2)"
   ]
  },
  {
   "cell_type": "markdown",
   "metadata": {
    "nbpresent": {
     "id": "615fc3b9-5bff-45bf-96b0-dc0a4777d6e9"
    }
   },
   "source": [
    "Now that it's implementing the right interface, we can set the Time Period to be what we want\n",
    "<table>\n",
    "<tr><td>Start Time</td><td>10 Jun 2016 04:00:00 UTCG</td></tr>\n",
    "<tr><td>Stop Time</td><td>11 Jun 2016 04:00:00 UTCG</td></tr>\n",
    "</table>\n",
    "\n",
    "The times are conveniently in a **Gregorian** format, referencing UTC, so we don't need to convert any Date/Time units because STK's Default Date settings are to use UTCG, but it's always good to pay attention to details like this."
   ]
  },
  {
   "cell_type": "code",
   "execution_count": 17,
   "metadata": {
    "collapsed": false,
    "nbpresent": {
     "id": "eda1e472-d69e-439c-a8a8-a58031486ad1"
    }
   },
   "outputs": [],
   "source": [
    "sc2.SetTimePeriod(\"10 Jun 2016 04:00:00\",\"11 Jun 2016 04:00:00\")\n",
    "# and while we're at it, lets reset the Animation time for the scenario to the begining.\n",
    "# this is an action (method) that can called from the root level.\n",
    "root.Rewind();"
   ]
  },
  {
   "cell_type": "markdown",
   "metadata": {
    "nbpresent": {
     "id": "501bafdf-426b-4bbd-a4dd-c205af714386"
    }
   },
   "source": [
    "### Next we need to create a Facility on the ground\n",
    "It's position will be defined by Latitude, Longitude and Altitude, which are traditionally termed **Geodetic** coordinates.\n",
    "<table>\n",
    "<tr><td>Latitude</td><td>38.9943 deg</td></tr>\n",
    "<tr><td>Longitude</td><td>-76.8489 deg (- implies West)</td></tr>\n",
    "<tr><td>Altitude (above WGS84)</td><td>0 m</td></tr>\n",
    "</table>"
   ]
  },
  {
   "cell_type": "markdown",
   "metadata": {
    "nbpresent": {
     "id": "ef909033-abee-41fc-83f6-35638fa2cfb9"
    }
   },
   "source": [
    "So let's first create the Facility, using the sc object and it's **_IAgStkObject_** Interface"
   ]
  },
  {
   "cell_type": "markdown",
   "metadata": {
    "nbpresent": {
     "id": "e86a19ee-855d-44b3-8e05-f3a9b92a4e0c"
    }
   },
   "source": [
    "The `sc` object can return a Collection of \"Children\" that hierarchically fall under it.  That collection also has a `New` Method we can use to create any kind of STK object that is allowed to be attached underneath the _Scenario_ level of the STK Object Browser Tree.  In the following example, we can \"gang\" multiple traverses through the object model using additional '.' and tab-completions, as follows:"
   ]
  },
  {
   "cell_type": "code",
   "execution_count": 18,
   "metadata": {
    "collapsed": true,
    "nbpresent": {
     "id": "a9553f48-c19b-4c9e-8b9e-f717c0165a3a"
    }
   },
   "outputs": [],
   "source": [
    "fac= sc.Children.New(STKObjects.eFacility,\"codeFacility\")"
   ]
  },
  {
   "cell_type": "markdown",
   "metadata": {
    "nbpresent": {
     "id": "9c70d1ad-cb3c-4364-81da-e5f75f826c5a"
    }
   },
   "source": [
    "Now we want to define it's position, preferably using a Geodetic frame of reference.  To do that, we need to use the objects **IAgFacility** interface instead of it's **IAgStkObject** interface."
   ]
  },
  {
   "cell_type": "code",
   "execution_count": 19,
   "metadata": {
    "collapsed": false,
    "nbpresent": {
     "id": "212b4469-0534-407a-ae75-6ef437d8a4db"
    }
   },
   "outputs": [
    {
     "data": {
      "text/plain": [
       "0"
      ]
     },
     "execution_count": 19,
     "metadata": {},
     "output_type": "execute_result"
    }
   ],
   "source": [
    "fac2 = fac.QueryInterface(STKObjects.IAgFacility)\n",
    "fac2.Position.AssignGeodetic(38.9943,-76.8489,0)"
   ]
  },
  {
   "cell_type": "markdown",
   "metadata": {
    "nbpresent": {
     "id": "de94e0de-4cc3-4272-828c-9f1ec1f4bb3d"
    }
   },
   "source": [
    "### Now we want to create a satellite with the following characteristics:\n",
    " - Use the J2 Propagator\n",
    " - Use Classical (keplerian) Elements, but slightly modified from \"traditional\" Classical Elements\n",
    "   - **Mean Motion** for the size instead of Semi-Major Axis\n",
    "   - **Mean Anomaly** for the location in the orbit instead of True Anomaly\n",
    "\n",
    "We also want to use slightly different units for the Mean Motion (revs/day)\n",
    "\n",
    "<table>\n",
    "<th>Specific Values</th>\n",
    "<tr><td>Orbit Epoch (state Epoch)</td><td>08 Jun 2016 15:14:26</td></tr>\n",
    "<tr><td>Mean Motion</td><td>15.08385840 revs/day</td></tr>\n",
    "<tr><td>Eccentricity</td><td>0.0002947</td></tr>\n",
    "<tr><td>Inclination</td><td>28.4703 deg</td></tr>\n",
    "<tr><td>Argument of Perigee</td><td>114.7239 deg</td></tr>\n",
    "<tr><td>RAAN</td><td>315.1965 deg</td></tr>\n",
    "<tr><td>Mean Anomaly</td><td>332.9096 deg</td></tr>\n",
    "</table>\n"
   ]
  },
  {
   "cell_type": "markdown",
   "metadata": {
    "nbpresent": {
     "id": "12021c67-80fa-4a6c-bada-80c8003fcac8"
    }
   },
   "source": [
    "First we create the new \"codeSat\" Satellite object in the same way we created the Facility, but using a different `STKObjects.eSatellite` enumeration.  That object, of default Type **_IAgStkObject_** gets reflected in the `sat` variable.\n",
    "\n",
    "Of course we want to do _Satellite_ things with this Object, so let's create a second `sat2` variable that's set to use the **_IAgSatellite_** interface."
   ]
  },
  {
   "cell_type": "code",
   "execution_count": 20,
   "metadata": {
    "collapsed": false,
    "nbpresent": {
     "id": "270f5740-bc0e-4037-83ba-c09e9f9f232c"
    }
   },
   "outputs": [],
   "source": [
    "sat = sc.Children.New(STKObjects.eSatellite, \"codeSat\")\n",
    "sat2= sat.QueryInterface(STKObjects.IAgSatellite)"
   ]
  },
  {
   "cell_type": "markdown",
   "metadata": {
    "nbpresent": {
     "id": "59c109db-8ad1-44c9-851f-e997b1433067"
    }
   },
   "source": [
    "There is a \"pattern\" to how a Satellite is created, it's properties defined, and it's propagator asked to calculate it's position over a specified time period.  That pattern can be easily understood by following the sequence of actions performed in the GUI when setting up a Satellite.  NOTE: This same philosophy applies to working with any other STK object as well.\n",
    "\n",
    "\n",
    "**When laying out the STK Object Model hierarchial structure back in STKv5.0, when it first appeared, the developers chose to mimic the functional layout of the GUI, but in code.** \n",
    "\n",
    "So, by simply remembering how we set up an object in the GUI (mouse clicks and selections), we have a basic \"roadmap\" for how to do the same in code.  The **sequence** of events done in the GUI usually needs to be replicated in a similar sequential fashion using code.\n",
    "\n",
    "So, when the first step in defining a Satellite is the selection of the Propagator, as seen below:"
   ]
  },
  {
   "cell_type": "markdown",
   "metadata": {
    "nbpresent": {
     "id": "3df278a5-dbf5-4e40-b3dc-246b4dcaee22"
    }
   },
   "source": [
    "<img src=\"./images/1.SelectJ2PropagatorFromPulldown.png\"/>"
   ]
  },
  {
   "cell_type": "markdown",
   "metadata": {
    "nbpresent": {
     "id": "a834d0e6-d9f0-4a2a-ad10-7a5fdc07ff0f"
    }
   },
   "source": [
    "where the very first thing you do in this GUI panel is select from a dropdown of available Propagators the J2Perturbation propagator. That selection will change the GUI layout to reflect the type of propagator selected, and the data entry options that are allowed.\n",
    "\n",
    "Here's the code equivalent:"
   ]
  },
  {
   "cell_type": "markdown",
   "metadata": {
    "nbpresent": {
     "id": "71aa2788-9b4d-4f84-a5a4-1c77c5f00744"
    }
   },
   "source": [
    "To get a list of the allowed Propagators for this object, we can \"ask\" it for what's supported"
   ]
  },
  {
   "cell_type": "code",
   "execution_count": 21,
   "metadata": {
    "collapsed": false,
    "nbpresent": {
     "id": "3b10e39b-cc7a-4e0d-992e-dfd680232169"
    }
   },
   "outputs": [
    {
     "data": {
      "text/plain": [
       "((16, '11Parameter'),\n",
       " (12, 'Astrogator'),\n",
       " (14, 'GPS'),\n",
       " (0, 'HPOP'),\n",
       " (1, 'J2Perturbation'),\n",
       " (2, 'J4Perturbation'),\n",
       " (3, 'LOP'),\n",
       " (13, 'RealTime'),\n",
       " (4, 'SGP4'),\n",
       " (17, 'SP3'),\n",
       " (5, 'SPICE'),\n",
       " (6, 'StkExternal'),\n",
       " (7, 'TwoBody'),\n",
       " (8, 'UserExternal'))"
      ]
     },
     "execution_count": 21,
     "metadata": {},
     "output_type": "execute_result"
    }
   ],
   "source": [
    "sat2.PropagatorSupportedTypes"
   ]
  },
  {
   "cell_type": "markdown",
   "metadata": {
    "nbpresent": {
     "id": "e48ff263-cfe7-477c-b90b-2ada91ad43d8"
    }
   },
   "source": [
    "and we see that J2Perturbation is available, along with a few others that have been activated by the valid licenses that STK saw on startup. \n",
    "\n",
    "**NOTE: Only items that are activated by valid licenses will show up in this list, or be available when assignining at runtime.**\n",
    "\n",
    "Now we can set the Propagator type using a related method `SetPropagatorType` and passing it the `STKObjects.ePropagatorJ2Perturbation` enumeration (which actualy resolves to the number \"1\")"
   ]
  },
  {
   "cell_type": "code",
   "execution_count": 22,
   "metadata": {
    "collapsed": false,
    "nbpresent": {
     "id": "95cea38d-1668-47fc-b625-bc7f3cd818a8"
    }
   },
   "outputs": [
    {
     "data": {
      "text/plain": [
       "0"
      ]
     },
     "execution_count": 22,
     "metadata": {},
     "output_type": "execute_result"
    }
   ],
   "source": [
    "sat2.SetPropagatorType(STKObjects.ePropagatorJ2Perturbation)"
   ]
  },
  {
   "cell_type": "markdown",
   "metadata": {
    "nbpresent": {
     "id": "bb9f6306-d871-4a39-9149-8063751fa465"
    }
   },
   "source": [
    "Now the .Propagator \"property\" of the `sat2` object will return an instance of the right kind of J2Perturbation object for us to work with."
   ]
  },
  {
   "cell_type": "code",
   "execution_count": 23,
   "metadata": {
    "collapsed": true,
    "nbpresent": {
     "id": "9c4407e9-c145-4eed-8dc7-a62fab5ad41e"
    }
   },
   "outputs": [],
   "source": [
    "satProp = sat2.Propagator"
   ]
  },
  {
   "cell_type": "code",
   "execution_count": 24,
   "metadata": {
    "collapsed": false,
    "nbpresent": {
     "id": "016b2f3b-be42-48c4-8d8e-e521181bfb29"
    }
   },
   "outputs": [
    {
     "data": {
      "text/plain": [
       "comtypes.POINTER(IAgVePropagator)"
      ]
     },
     "execution_count": 24,
     "metadata": {},
     "output_type": "execute_result"
    }
   ],
   "source": [
    "type(satProp)"
   ]
  },
  {
   "cell_type": "markdown",
   "metadata": {
    "nbpresent": {
     "id": "03e3ba3f-5d20-4885-9874-2ac4343ec51c"
    }
   },
   "source": [
    "`satProp` is currently showing that it's exposing an **_IAgVePropagator_** interface. Looking up that \"_IAgVePropagator_\" keyword in the docs returns a page showing co-Classes that implement **_IAgPropagator_**. That means that all these **_AgVe_**... Classes also reference and expose the **_IAgVePropagator_** interface, and possibly other interfaces as well.\n",
    "\n",
    "The class **_AgVePropagatorJ2Perturbation_** looks interesting and is more applicable to our needs, so lets take a closer look at that...\n",
    "\n",
    "It has 2 Interfaces:\n",
    " - **_IAgVePropagator_** : Base vehicle propagator interface, with no properties or methods\n",
    " - **_IAgVePropagatorJ2Perturbation_** : Class defining the J2 perturbation propagator\n",
    "\n",
    "and since the base interface **_IAgVePropagator_** didn't have anything useful for us to use, let's Cast `satProp` into it's **_IAgVePropagatorJ2Perturbation_** interface to see what we can do with that."
   ]
  },
  {
   "cell_type": "code",
   "execution_count": 25,
   "metadata": {
    "collapsed": false,
    "nbpresent": {
     "id": "3cb7bf00-8e4d-4da5-b32b-70426f3ec883"
    }
   },
   "outputs": [
    {
     "data": {
      "text/plain": [
       "comtypes.POINTER(IAgVePropagatorJ2Perturbation)"
      ]
     },
     "execution_count": 25,
     "metadata": {},
     "output_type": "execute_result"
    }
   ],
   "source": [
    "satProp=satProp.QueryInterface(STKObjects.IAgVePropagatorJ2Perturbation)\n",
    "type(satProp)"
   ]
  },
  {
   "cell_type": "markdown",
   "metadata": {
    "nbpresent": {
     "id": "382846a5-c3a0-4190-8395-b0cd63233779"
    }
   },
   "source": [
    "This is one of the strange cases in the STK Object Model where we initially get an \"object\" exposing a generic base Interface (**_IAgVePropagator_**), but there is no equivalent **_AgVePropagator_** (base) class or object that goes along with it.  There isn't even one in the documentation.  Instead, this propagator object is **already** an instamce of the specific **_AgVePropagatorJ2Perturbation_** class of object because it came out of the _Satellite_ object **after** it had been configured to use the J2Perturbation propagator.  It was an **_AgVePropagatorJ2Perturbation_** when the satProp variable was assigned, but it simply reverted to the most base-level's of interfaces that it had, the **_IAgVePropagator_** interface.\n",
    "\n",
    "So, if we had, just out of curiosity, tried to cast `satProp`'s interface over to an **_IAgVePropagatorJ4Perturbation_** (which is similar) we would get an error because that interface doesn't exist for a J2Perturbation propagator.\n",
    "\n",
    "Also, you cannot simply create an instance AgVePropagatorJ2Perturbation from scratch.  It has to be manufactured by a _Satellite_ object, specifically when that object is exposing it's **_IAgSatellite_** interface.  This behavior, in a manner of speaking, conforms to the \"Factory\" design pattern often used in Object Oriented programming.  Only certain factories (object class) can produce certain objects, and only when running in a particular way (interface).\n",
    "\n",
    "This also means that if you wanted, for whatever reason, to change the propagator in use, you would have to go BACK UP to the `sat2` object, change it's selected propagator to what you wanted, and re-request the `.Propagator` property to get the changed propagator object back out of it.\n",
    "\n",
    "This very particular workflow is reflected in the GUI behavior as well.  You would need to go back to the top of the GUI panel, change the Propagator selected from the dropdown list and THEN start making changes to the propagator settings.\n"
   ]
  },
  {
   "cell_type": "markdown",
   "metadata": {
    "nbpresent": {
     "id": "d70e3fc5-f389-4b0e-a15e-cb13776c90df"
    }
   },
   "source": [
    "Moving forwards through the Propagator setup, we can see from the Object Model \"roadmap\" below that the InitialState property obtained from the **_IAgVePropagatorJ2Perturbation_** interface will have an **_IAgVeJxInitialState_**.  The **_Jx_** is there because this exact same interface is available for the J4Perturbation propagator as well.\n",
    "\n"
   ]
  },
  {
   "cell_type": "markdown",
   "metadata": {
    "nbpresent": {
     "id": "e8022ecd-4b43-4ffe-9fe2-a3b2a03a707e"
    }
   },
   "source": [
    "<img src=\"./images/IAgVePropagator.png\" />\n",
    "\n",
    "This visual is derived from the published PDF of the STKv11.1 Object Model Diagram found [here](http://help.agi.com/resources/help/online/stkdevkit/11.1/ObjectModel/pdf/ObjectModel_diagram.pdf)"
   ]
  },
  {
   "cell_type": "markdown",
   "metadata": {
    "nbpresent": {
     "id": "cdf8ca66-7cd2-4e96-929c-459fa0e36178"
    }
   },
   "source": [
    "#### Setting the Initial State\n",
    "Now we need to set up the Initial State conditions for this J2Perturbation propagator.\n",
    "This sequence parallels the following GUI actions:\n",
    "\n",
    "First, set the **Orbit Epoch** Time (GUI):\n",
    "<img src=\"./images/2.Set_OrbitEpoch.png\"/>\n",
    "\n",
    "and via `code`:"
   ]
  },
  {
   "cell_type": "code",
   "execution_count": 26,
   "metadata": {
    "collapsed": true,
    "nbpresent": {
     "id": "5426da17-86dd-4e20-b821-3b2bc5fb31ae"
    }
   },
   "outputs": [],
   "source": [
    "satProp.InitialState.Epoch=\"08 Jun 2016 15:14:26\""
   ]
  },
  {
   "cell_type": "markdown",
   "metadata": {
    "collapsed": true,
    "nbpresent": {
     "id": "afbb8c1e-7837-4669-8183-5571ea5cbd3f"
    }
   },
   "source": [
    "Next, change **Semimajor Axis** to **Mean Motion** and **True Anomaly** to **Mean Anomaly**\n",
    "<img src=\"./images/3.Classical_Orbital_Elements_MeanMotion_MeanAnomaly_RAAN.png\"/>\n",
    "\n",
    "This is a little trickier to follow.  Essentially the _InitialState_, in it's entirety, has a **Representation** of Type **_IAgOrbitState_** that can be manipulated.  Essentially it's the code/class/interface equivalent of all the parameters found within the dashed blue border seen above.\n",
    "\n",
    "That includes the _Coordinate Type_ {Cartesian, Classical/Keplerian, etc...}, it's _Coordinate System of Reference_ {ICRF, J2000, B1950, etc...} and the actual parameters, as appropriate, for how the Coordinates are applied.\n"
   ]
  },
  {
   "cell_type": "code",
   "execution_count": 27,
   "metadata": {
    "collapsed": false,
    "nbpresent": {
     "id": "030c1c18-a88f-4785-a79c-7124cbe85877"
    }
   },
   "outputs": [
    {
     "data": {
      "text/plain": [
       "comtypes.POINTER(IAgOrbitState)"
      ]
     },
     "execution_count": 27,
     "metadata": {},
     "output_type": "execute_result"
    }
   ],
   "source": [
    "type(satProp.InitialState.Representation)"
   ]
  },
  {
   "cell_type": "markdown",
   "metadata": {
    "nbpresent": {
     "id": "d79272bc-19cd-486c-a948-37ef8241e6c4"
    }
   },
   "source": [
    "We're going to set a new variable, `keplerian`, to the _.Representation_ when it is converted to be a Classical (i.e. Keplerian) Type of parameters."
   ]
  },
  {
   "cell_type": "code",
   "execution_count": 28,
   "metadata": {
    "collapsed": true,
    "nbpresent": {
     "id": "4577b968-344f-4df6-b2bf-55a563b3d8ca"
    }
   },
   "outputs": [],
   "source": [
    "keplerian = satProp.InitialState.Representation.ConvertTo(STKUtil.eOrbitStateClassical)"
   ]
  },
  {
   "cell_type": "code",
   "execution_count": 29,
   "metadata": {
    "collapsed": false,
    "nbpresent": {
     "id": "8d18417b-f0fa-469b-be02-95d9b7ff9c21"
    }
   },
   "outputs": [
    {
     "data": {
      "text/plain": [
       "comtypes.POINTER(IAgOrbitState)"
      ]
     },
     "execution_count": 29,
     "metadata": {},
     "output_type": "execute_result"
    }
   ],
   "source": [
    "type(keplerian)"
   ]
  },
  {
   "cell_type": "markdown",
   "metadata": {
    "nbpresent": {
     "id": "8456fe34-7fed-401e-b1b7-6bf1147fe246"
    }
   },
   "source": [
    "despite being \"converted\" to **`eOrbitStateClassical`** the `keplerian` object is still exposing the generic \"base\" **_IAgOrbitState_** interface.  We want the more specific, and applicable to our type of data, **_IAgOrbitStateClassical_** interface where we can make some changes to how both the _Size_ of the orbit (_MeanMotion_) and the _Location_ (_MeanAnomaly_) in the orbit is specified.\n",
    "\n",
    "NOTE: It's only because we want to specify these alternative _MeanMotion_ and _MeanAnomaly_ parameters, because they're convenient to describing the orbit we want, that we have to go to this extra level of detail.  The base **_IAgOrbitState_** interface actually has a few \"helper\" methods such as _AssignClassical_ where the \"traditional\" Keplerian elements can be set all at once.\n",
    "\n",
    "So, `keplerian2` gets assigned with the **_IAgOrbitStateClassical_** interface"
   ]
  },
  {
   "cell_type": "code",
   "execution_count": 30,
   "metadata": {
    "collapsed": true,
    "nbpresent": {
     "id": "f75819a2-52e2-4015-8a96-d1cb00ad427d"
    }
   },
   "outputs": [],
   "source": [
    "keplerian2 = keplerian.QueryInterface(STKObjects.IAgOrbitStateClassical)"
   ]
  },
  {
   "cell_type": "markdown",
   "metadata": {
    "nbpresent": {
     "id": "018b6b9d-3e4e-4a35-b865-dc41feebbe59"
    }
   },
   "source": [
    "and now we can get to work changing the Size, Location, and Orientation to suite how our Orbit State data is specified."
   ]
  },
  {
   "cell_type": "code",
   "execution_count": 31,
   "metadata": {
    "collapsed": true,
    "nbpresent": {
     "id": "4b229b0b-c8fd-4eb1-b34e-d30c4b67c213"
    }
   },
   "outputs": [],
   "source": [
    "keplerian2.SizeShapeType =STKObjects.eSizeShapeMeanMotion\n",
    "keplerian2.LocationType = STKObjects.eLocationMeanAnomaly\n",
    "keplerian2.Orientation.AscNodeType = STKObjects.eAscNodeRAAN"
   ]
  },
  {
   "cell_type": "markdown",
   "metadata": {
    "nbpresent": {
     "id": "3f4630b0-943d-43a2-91ef-e5d8de8f224c"
    }
   },
   "source": [
    "One last thing we need to do prior to setting values and that's to make sure that the Units will match those of our values.  Again this parallels the GUI actions in selecting what's approriate from the unit drop-downs.\n",
    "\n",
    "NOTE: Each instance of an STK Root object can have **ONLY ONE** global set of units at any particular time.  So if you have values that are specified in multiple different units for a single kind of measurement type (angles, distance, etc...) you'll need to flip-flop to the right Unit prior to setting & assigning it.\n",
    "\n",
    "Hanging off the `root` object is a **_UnitPreferences_** property which returns a Collection of **_IAgUnitPrefsDim_** with it's own interface **_IAgUnitPrefsDimCollection_**.  In this case, while it's possible to traverse down to each _Item_ in the collection, and modify them one layer deeper there are some \"shortcuts\" you can take by \"ganging\" calls together.  Since the Collection interface has both an **_Item_** Property as well as a **_SetCurrentUnit_** method they can be combined to make the whole process a little more streamlined as one long \"call\" per Dimension and Unit as follows:"
   ]
  },
  {
   "cell_type": "code",
   "execution_count": 32,
   "metadata": {
    "collapsed": false,
    "nbpresent": {
     "id": "1ca712d5-4840-4af2-8c46-78ef4634e325"
    }
   },
   "outputs": [
    {
     "data": {
      "text/plain": [
       "0"
      ]
     },
     "execution_count": 32,
     "metadata": {},
     "output_type": "execute_result"
    }
   ],
   "source": [
    "root.UnitPreferences.Item('AngleUnit').SetCurrentUnit('revs')\n",
    "root.UnitPreferences.Item('TimeUnit').SetCurrentUnit('day')"
   ]
  },
  {
   "cell_type": "markdown",
   "metadata": {
    "nbpresent": {
     "id": "a3d856b1-91fa-45d9-926f-59e7281281a2"
    }
   },
   "source": [
    "One anoying detail about how Python and the comtypes module works when interacting with Microsoft COM objects is that when a new object is referenced, if it's capable of exposing multiple Interfaces, the lowest or base class of the bunch is automatically selected, even if it doesn't have any usefull methods or properties.\n",
    "\n",
    "Case in point: the SizeShape property of our `keplerian2` object. "
   ]
  },
  {
   "cell_type": "code",
   "execution_count": 33,
   "metadata": {
    "collapsed": false,
    "nbpresent": {
     "id": "fa4a0e0d-e69a-405f-a974-92bc1d18bd68"
    }
   },
   "outputs": [
    {
     "data": {
      "text/plain": [
       "comtypes.POINTER(IAgClassicalSizeShape)"
      ]
     },
     "execution_count": 33,
     "metadata": {},
     "output_type": "execute_result"
    }
   ],
   "source": [
    "type(keplerian2.SizeShape)"
   ]
  },
  {
   "cell_type": "markdown",
   "metadata": {
    "nbpresent": {
     "id": "324afe71-717a-4335-b1cb-652ae779aa0a"
    }
   },
   "source": [
    "We can see that despite having been \"set\" to a Type enumeration of _eSizeShapeMeanMotion_ a few cells above, it still defaults to the **_IAgClassicalSizeShape_** interface, which is simply a base class for all the following co-classes:\n",
    "- **_AgClassicalSizeShapeAltitude_**\n",
    "- **_AgClassicalSizeShapeMeanMotion_**\n",
    "- **_AgClassicalSizeShapePeriod_**\n",
    "- **_AgClassicalSizeShapeRadius_**\n",
    "- **_AgClassicalSizeShapeSemimajorAxis_**\n",
    "- **_AgEquinoctialSizeShapeMeanMotion_**\n",
    "- **_AgEquinoctialSizeShapeSemimajorAxis_**\n",
    "\n",
    "each of which having an equivalently specific {...|Altitude|MeanMotion|Period|Radius|SemimajorAxis} Interface as well as the **_IAgClassicalSizeShape_** base interface.\n",
    "\n",
    "Since our SizeShape is actually an instance of the **_AgClassicalSizeShapeMeanMotion_** class, the only usefull & specific interface is the **_IAgClassicalSizeShapeMeanMotion_** one.\n",
    "\n",
    "Knowing this apriori, as we get more familiar reading through how the documentation is structured, we can \"quick-cast\" the interface into the interface that we know will work for us, tacking on the **_.MeanMotion_** property because we know it's going to be there.\n",
    "\n",
    "The process looks like this:"
   ]
  },
  {
   "cell_type": "code",
   "execution_count": 34,
   "metadata": {
    "collapsed": false,
    "nbpresent": {
     "id": "fb654cd2-0f95-494d-a621-10a2f27d69f4"
    }
   },
   "outputs": [],
   "source": [
    "keplerian2.SizeShape.QueryInterface(STKObjects.IAgClassicalSizeShapeMeanMotion).MeanMotion = 15.08385840"
   ]
  },
  {
   "cell_type": "code",
   "execution_count": 35,
   "metadata": {
    "collapsed": true,
    "nbpresent": {
     "id": "f011d15f-0ff0-4fb7-b838-a46d2c633a73"
    }
   },
   "outputs": [],
   "source": [
    "keplerian2.SizeShape.QueryInterface(STKObjects.IAgClassicalSizeShapeMeanMotion).Eccentricity = 0.0002947"
   ]
  },
  {
   "cell_type": "markdown",
   "metadata": {
    "nbpresent": {
     "id": "a1b19e00-35fc-4d14-967a-d5484006fd18"
    }
   },
   "source": [
    "Rememberr that our **'AngleUnit'** and **'TimeUnit'** are both still set to **'revs'** and **'days'** respectively from a few cells above. To properly assign the following angular values as degrees we need to flip-flop back to **'deg'**.  We'll change the **'TimeUnit'** as well because 'seconds' is a common default for units that we're going to be referencing later on."
   ]
  },
  {
   "cell_type": "code",
   "execution_count": 36,
   "metadata": {
    "collapsed": true,
    "nbpresent": {
     "id": "43cb6494-c658-4bfa-8bd4-bb45b5d9c176"
    }
   },
   "outputs": [],
   "source": [
    "root.UnitPreferences.Item('AngleUnit').SetCurrentUnit('deg')\n",
    "root.UnitPreferences.Item('TimeUnit').SetCurrentUnit('sec')\n",
    "keplerian2.Orientation.Inclination = 2.84703\n",
    "keplerian2.Orientation.ArgOfPerigee = 114.7239"
   ]
  },
  {
   "cell_type": "markdown",
   "metadata": {
    "nbpresent": {
     "id": "fbead0da-7bd5-4313-85e5-bd58b4bfda3d"
    }
   },
   "source": [
    "Once again, the \"base Class\" Interface selection mechanism used by Python is going to trip us up.  For the `keplerian2` object both the **_.Orientation.AscNode_** and **_.Location_** will default to fairly useless **_IAgOrientationAscNode_** and **_IAgClassicalLocation_** interfaces respectively.  We need the **_.Orientation.AscNode_** returned object to expose its **_IAgOrientationAscNodeRAAN_** interface in order to set the RAAN Value.  We also want the **_.Location_** returned object to expose its **_IAgClassicalLocationMeanAnomaly_** interface so we can set the Mean Anomaly value as well.\n",
    "\n",
    "Again, in-line \"quick-casting\" to interfaces that we already know, and expect to see, can be done to streamline the code, albeit at the expense of loosing a bit of tab-completion interactivity."
   ]
  },
  {
   "cell_type": "code",
   "execution_count": 37,
   "metadata": {
    "collapsed": true,
    "nbpresent": {
     "id": "6b7054af-d8f2-42b9-9096-49f29c7b0816"
    }
   },
   "outputs": [],
   "source": [
    "keplerian2.Orientation.AscNode.QueryInterface(STKObjects.IAgOrientationAscNodeRAAN).Value = 315.1965\n",
    "keplerian2.Location.QueryInterface(STKObjects.IAgClassicalLocationMeanAnomaly).Value = 332.9096"
   ]
  },
  {
   "cell_type": "markdown",
   "metadata": {
    "nbpresent": {
     "id": "8dd5c789-c38a-4ff2-a433-c3b9b557f053"
    }
   },
   "source": [
    "We're almost done with this Propagator.  Now that all the properties are properly set in the `keplerian` object, we can Assign it back into the InitialState.Representation of the propagator itself.\n",
    "\n",
    "This is an important step that **MUST** be done in order for the propagator to \"learn\" about all these updated values. Simply updating the `keplerian` variable will NOT affect the \"factory\" Propagator where it was produced.  It has to be explicitly Assigned back in order to take effect."
   ]
  },
  {
   "cell_type": "code",
   "execution_count": 38,
   "metadata": {
    "collapsed": false,
    "nbpresent": {
     "id": "5d462dd2-2434-4014-b1c8-297228a16c9f"
    }
   },
   "outputs": [
    {
     "data": {
      "text/plain": [
       "0"
      ]
     },
     "execution_count": 38,
     "metadata": {},
     "output_type": "execute_result"
    }
   ],
   "source": [
    "satProp.InitialState.Representation.Assign(keplerian)"
   ]
  },
  {
   "cell_type": "markdown",
   "metadata": {
    "nbpresent": {
     "id": "4a24dda8-09cd-47ca-acbd-c84f1f497b19"
    }
   },
   "source": [
    "The last step is to tell the Propagator to **_.Propagate_**.  Without this step, none of the position data will be calculated and the Satellite will remain in a partially configured state. All the properties will have been set, but the code used to to take those properties and calculate its position over its time span won't execute."
   ]
  },
  {
   "cell_type": "code",
   "execution_count": 39,
   "metadata": {
    "collapsed": false,
    "nbpresent": {
     "id": "e6574d61-cc01-4db6-b254-b76d0bddf04a"
    }
   },
   "outputs": [
    {
     "data": {
      "text/plain": [
       "0"
      ]
     },
     "execution_count": 39,
     "metadata": {},
     "output_type": "execute_result"
    }
   ],
   "source": [
    "satProp.Propagate()"
   ]
  },
  {
   "cell_type": "markdown",
   "metadata": {
    "nbpresent": {
     "id": "0d04fb84-8004-46c1-afe7-8c71c40d3282"
    }
   },
   "source": [
    "## Getting Data Out -  Data Providers and STK GUI Reports\n",
    "\n",
    "### STK Objects and the Data they can provide\n",
    "\n",
    "Every **_AgStkObject_**, through it's **_IAgStkObject_** interface, will expose a **_.DataProviders_** property that will return a Collection of valid DataProvider Groups for that type of object.\n",
    "\n",
    "Each _Item()_ of the returned **_IAgDataProviderCollection_** conforms to an **_IAgDataProviderInfo_** interface in addition to exposing one of the three interfaces listed below.\n",
    "\n",
    "The **_IAgDataProviderInfo_** interface is another \"base\" and common interface that only has a few properties a single method.  Essentially, it provides the human-readable _Name_ for the Data Provider as well as the _Type_ of Data Provider it is.\n",
    "\n",
    "Data Providers fall into 3 basic categories, or Types:\n",
    "- Static Data, defined in the **_AgDataPrvFixed_** Class and handled through the **_IAgDataPrvFixed_** Interface.\n",
    "  - examples of this would be Fixed position information, object initial state data, and other parameters that won't vary over time.\n",
    "- Time Varying (TimeSeries) Data, defined in the **_AGDataPrvTimeVar_** Class and handled through the **_IAgDataPrvTimeVar_** Interface.\n",
    "  - examples of this would be position data for moving vehicles reported over a time interval at specified time steps.\n",
    "- Time Intervals, defined in the **_AGDataPrvInterval_** Class and handled through the **_IAgDataPrvInterval_** Interface.\n",
    "  - examples of this would be Start|Stop Date/Time values for one or more time intervals, such as Access, No_Access, etc...\n",
    "\n",
    "\n",
    "We can better understand the organization of Groups, Data Providers, and Elements found in the Object Model follows by reviewing this structure:\n",
    "<img src=\"./images/Report-2-DatProvider-Structure.png\"/>\n",
    "which bears a strinking similarity to the GUI layout of the Data Providers selector panel when customizing reports and graphs.\n",
    "<img src=\"./images/GUI_Report_DataProviders.png\"/>\n",
    "So when planning to pull data from STK, it's generally a good idea to be familiar with the GUI layout prior to setting up the code.  The names, relative positions in heirarchy, and contents will all help define the Interfaces we will need to be looking to work with.\n",
    "\n",
    "\n",
    "\n",
    "For our first example, we want to ouput the **_Cartesian Position_** and **_Velocity_** of the _Satellite_ that we just created.  That information will need to be specified in a particular Coordinate System, and for this report we want to use the **_J2000_** Coordinate System.\n",
    "\n",
    "Both of those data groups are Time Varying (TimeSeries) data types, so we know we'll need to work with the **_IAgDataPrvTimeVar_** interface as part of the process.\n",
    "\n",
    "So, for the velocity data we will be using is the \"Cartesian Velocity\" _Group_ name, and below it, the \"J2000\" _Data Provider_ Name, to hone in on the actual _Elements_ {x,y,z,etc...}"
   ]
  },
  {
   "cell_type": "code",
   "execution_count": 79,
   "metadata": {
    "collapsed": false,
    "nbpresent": {
     "id": "dd2625ad-97ff-4b25-88c7-e57445063b8c"
    }
   },
   "outputs": [
    {
     "data": {
      "text/plain": [
       "comtypes.POINTER(IAgDataProviderInfo)"
      ]
     },
     "execution_count": 79,
     "metadata": {},
     "output_type": "execute_result"
    }
   ],
   "source": [
    "cartVel=sat.DataProviders(\"Cartesian Velocity\")\n",
    "type(cartVel)"
   ]
  },
  {
   "cell_type": "markdown",
   "metadata": {
    "nbpresent": {
     "id": "cbc086b0-995b-4107-8c3a-7a10b5febb7b"
    }
   },
   "source": [
    "We've selected the \"Cartesian Velocity\" group, but need to cast `cartVel` to it's **_IAgDataProviderGroup_** interface to do anything usefull with it."
   ]
  },
  {
   "cell_type": "code",
   "execution_count": 80,
   "metadata": {
    "collapsed": false,
    "nbpresent": {
     "id": "a74eb297-76ac-4c33-a9de-35f496622bb8"
    }
   },
   "outputs": [],
   "source": [
    "cartVel=cartVel.QueryInterface(STKObjects.IAgDataProviderGroup)"
   ]
  },
  {
   "cell_type": "markdown",
   "metadata": {
    "nbpresent": {
     "id": "463c0f18-c8dd-4b4b-ae2a-e312b63dd775"
    }
   },
   "source": [
    "Now we can pull from the collection of DataProviders found in this Group the one named \"J2000\""
   ]
  },
  {
   "cell_type": "code",
   "execution_count": 81,
   "metadata": {
    "collapsed": false,
    "nbpresent": {
     "id": "4cb35559-bc41-4f7e-b99b-99fb82db8070"
    }
   },
   "outputs": [
    {
     "data": {
      "text/plain": [
       "comtypes.POINTER(IAgDataProviderInfo)"
      ]
     },
     "execution_count": 81,
     "metadata": {},
     "output_type": "execute_result"
    }
   ],
   "source": [
    "cartVelJ2000=cartVel.Group.Item(\"J2000\")\n",
    "type(cartVelJ2000)"
   ]
  },
  {
   "cell_type": "markdown",
   "metadata": {
    "nbpresent": {
     "id": "ca2229c3-f190-462b-b930-f02583ffc375"
    }
   },
   "source": [
    "again, we get back the \"default\" **_IAgDataProviderInfo_** interface, which won't do us much good here.  We need to cast it to the more specific **_IAgDataPrvTimeVar_** interface because it's a Time Varying type of Data Provider, and that interface will let us specify the time span over which we want the data to be generated, as well as which specific elements we want."
   ]
  },
  {
   "cell_type": "code",
   "execution_count": 82,
   "metadata": {
    "collapsed": false,
    "nbpresent": {
     "id": "e1105cd7-a972-47bd-bfa4-c6a370608758"
    }
   },
   "outputs": [
    {
     "data": {
      "text/plain": [
       "comtypes.POINTER(IAgDataPrvTimeVar)"
      ]
     },
     "execution_count": 82,
     "metadata": {},
     "output_type": "execute_result"
    }
   ],
   "source": [
    "cartVelJ2000TimeVar = cartVelJ2000.QueryInterface(STKObjects.IAgDataPrvTimeVar)\n",
    "type(cartVelJ2000TimeVar)"
   ]
  },
  {
   "cell_type": "markdown",
   "metadata": {
    "nbpresent": {
     "id": "fd739b33-289f-4e8b-9b21-528e5ad1cec2"
    }
   },
   "source": [
    "Now, we're going to use the **_ExecElements_** method to return ONLY the {Time,x,y,z} values rather than the entire {Time,x,y,z,speed,radial,in-track} list of _Elements_ that exist for the J2000 _Data Provider_ found in the Cartesian Velocity _Group_.\n",
    "\n",
    "We need to pass an list of these named Elements into the method call, so we need to create that list first."
   ]
  },
  {
   "cell_type": "code",
   "execution_count": 110,
   "metadata": {
    "collapsed": false,
    "nbpresent": {
     "id": "bf559671-b6c1-433d-ac16-98187f579f95"
    }
   },
   "outputs": [],
   "source": [
    "rptElements=['Time','x','y','z']"
   ]
  },
  {
   "cell_type": "markdown",
   "metadata": {
    "nbpresent": {
     "id": "5e7635df-310a-4680-b639-52b9968d2843"
    }
   },
   "source": [
    "Now we're ready to call _ExecElements_ with a Starting and Ending Time exactly that of the Scenario's, and a time step between generated data points of 60 seconds."
   ]
  },
  {
   "cell_type": "code",
   "execution_count": 111,
   "metadata": {
    "collapsed": false,
    "nbpresent": {
     "id": "12964313-51a0-4136-b56d-2e30a680b7b7"
    }
   },
   "outputs": [
    {
     "data": {
      "text/plain": [
       "comtypes.POINTER(IAgDrResult)"
      ]
     },
     "execution_count": 111,
     "metadata": {},
     "output_type": "execute_result"
    }
   ],
   "source": [
    "velResult=cartVelJ2000TimeVar.ExecElements(sc2.StartTime,sc2.StopTime,60,rptElements)\n",
    "type(velResult)"
   ]
  },
  {
   "cell_type": "code",
   "execution_count": 130,
   "metadata": {
    "collapsed": false,
    "nbpresent": {
     "id": "4777f3ee-5aa7-424e-a0c0-1414f9f21587"
    }
   },
   "outputs": [],
   "source": [
    "time=velResult.DataSets.Item(0).GetValues()"
   ]
  },
  {
   "cell_type": "code",
   "execution_count": 129,
   "metadata": {
    "collapsed": false,
    "nbpresent": {
     "id": "585ad33a-17f2-4d01-9c85-e9815a1d3954"
    }
   },
   "outputs": [],
   "source": [
    "x=velResult.DataSets.Item(1).GetValues()"
   ]
  },
  {
   "cell_type": "code",
   "execution_count": 133,
   "metadata": {
    "collapsed": false,
    "nbpresent": {
     "id": "7529e992-f233-4489-b0a6-d2e2b467d3d2"
    }
   },
   "outputs": [],
   "source": [
    "y=velResult.DataSets.Item(2).GetValues()"
   ]
  },
  {
   "cell_type": "code",
   "execution_count": 134,
   "metadata": {
    "collapsed": true,
    "nbpresent": {
     "id": "bb7dc34f-8f7a-4d33-9b20-1cc391cbc7d4"
    }
   },
   "outputs": [],
   "source": [
    "z=velResult.DataSets.Item(3).GetValues()"
   ]
  },
  {
   "cell_type": "code",
   "execution_count": 152,
   "metadata": {
    "collapsed": false,
    "nbpresent": {
     "id": "c4cd33e7-b617-4972-b812-4e3ffd5c8073"
    }
   },
   "outputs": [],
   "source": [
    "import numpy as np\n",
    "import pandas as pd\n",
    "import matplotlib.pyplot as plt"
   ]
  },
  {
   "cell_type": "code",
   "execution_count": 172,
   "metadata": {
    "collapsed": false,
    "nbpresent": {
     "id": "f6147e35-79c4-4880-a7ed-52000f7c4320"
    }
   },
   "outputs": [
    {
     "data": {
      "text/html": [
       "<div>\n",
       "<table border=\"1\" class=\"dataframe\">\n",
       "  <thead>\n",
       "    <tr style=\"text-align: right;\">\n",
       "      <th></th>\n",
       "      <th>time</th>\n",
       "      <th>x</th>\n",
       "      <th>y</th>\n",
       "      <th>z</th>\n",
       "    </tr>\n",
       "  </thead>\n",
       "  <tbody>\n",
       "    <tr>\n",
       "      <th>0</th>\n",
       "      <td>10 Jun 2016 04:00:00.000000000</td>\n",
       "      <td>-7.395504</td>\n",
       "      <td>-1.679681</td>\n",
       "      <td>-0.352284</td>\n",
       "    </tr>\n",
       "    <tr>\n",
       "      <th>1</th>\n",
       "      <td>10 Jun 2016 04:01:00.000000000</td>\n",
       "      <td>-7.268032</td>\n",
       "      <td>-2.164220</td>\n",
       "      <td>-0.360397</td>\n",
       "    </tr>\n",
       "    <tr>\n",
       "      <th>2</th>\n",
       "      <td>10 Jun 2016 04:02:00.000000000</td>\n",
       "      <td>-7.108893</td>\n",
       "      <td>-2.639318</td>\n",
       "      <td>-0.366936</td>\n",
       "    </tr>\n",
       "    <tr>\n",
       "      <th>3</th>\n",
       "      <td>10 Jun 2016 04:03:00.000000000</td>\n",
       "      <td>-6.918784</td>\n",
       "      <td>-3.102901</td>\n",
       "      <td>-0.371871</td>\n",
       "    </tr>\n",
       "    <tr>\n",
       "      <th>4</th>\n",
       "      <td>10 Jun 2016 04:04:00.000000000</td>\n",
       "      <td>-6.698534</td>\n",
       "      <td>-3.552951</td>\n",
       "      <td>-0.375181</td>\n",
       "    </tr>\n",
       "    <tr>\n",
       "      <th>5</th>\n",
       "      <td>10 Jun 2016 04:05:00.000000000</td>\n",
       "      <td>-6.449107</td>\n",
       "      <td>-3.987504</td>\n",
       "      <td>-0.376852</td>\n",
       "    </tr>\n",
       "    <tr>\n",
       "      <th>6</th>\n",
       "      <td>10 Jun 2016 04:06:00.000000000</td>\n",
       "      <td>-6.171591</td>\n",
       "      <td>-4.404669</td>\n",
       "      <td>-0.376877</td>\n",
       "    </tr>\n",
       "    <tr>\n",
       "      <th>7</th>\n",
       "      <td>10 Jun 2016 04:07:00.000000000</td>\n",
       "      <td>-5.867200</td>\n",
       "      <td>-4.802627</td>\n",
       "      <td>-0.375255</td>\n",
       "    </tr>\n",
       "    <tr>\n",
       "      <th>8</th>\n",
       "      <td>10 Jun 2016 04:08:00.000000000</td>\n",
       "      <td>-5.537261</td>\n",
       "      <td>-5.179645</td>\n",
       "      <td>-0.371993</td>\n",
       "    </tr>\n",
       "    <tr>\n",
       "      <th>9</th>\n",
       "      <td>10 Jun 2016 04:09:00.000000000</td>\n",
       "      <td>-5.183216</td>\n",
       "      <td>-5.534082</td>\n",
       "      <td>-0.367108</td>\n",
       "    </tr>\n",
       "    <tr>\n",
       "      <th>10</th>\n",
       "      <td>10 Jun 2016 04:10:00.000000000</td>\n",
       "      <td>-4.806609</td>\n",
       "      <td>-5.864396</td>\n",
       "      <td>-0.360618</td>\n",
       "    </tr>\n",
       "    <tr>\n",
       "      <th>11</th>\n",
       "      <td>10 Jun 2016 04:11:00.000000000</td>\n",
       "      <td>-4.409085</td>\n",
       "      <td>-6.169149</td>\n",
       "      <td>-0.352554</td>\n",
       "    </tr>\n",
       "    <tr>\n",
       "      <th>12</th>\n",
       "      <td>10 Jun 2016 04:12:00.000000000</td>\n",
       "      <td>-3.992377</td>\n",
       "      <td>-6.447015</td>\n",
       "      <td>-0.342951</td>\n",
       "    </tr>\n",
       "    <tr>\n",
       "      <th>13</th>\n",
       "      <td>10 Jun 2016 04:13:00.000000000</td>\n",
       "      <td>-3.558303</td>\n",
       "      <td>-6.696788</td>\n",
       "      <td>-0.331850</td>\n",
       "    </tr>\n",
       "    <tr>\n",
       "      <th>14</th>\n",
       "      <td>10 Jun 2016 04:14:00.000000000</td>\n",
       "      <td>-3.108756</td>\n",
       "      <td>-6.917381</td>\n",
       "      <td>-0.319301</td>\n",
       "    </tr>\n",
       "    <tr>\n",
       "      <th>15</th>\n",
       "      <td>10 Jun 2016 04:15:00.000000000</td>\n",
       "      <td>-2.645696</td>\n",
       "      <td>-7.107837</td>\n",
       "      <td>-0.305358</td>\n",
       "    </tr>\n",
       "    <tr>\n",
       "      <th>16</th>\n",
       "      <td>10 Jun 2016 04:16:00.000000000</td>\n",
       "      <td>-2.171141</td>\n",
       "      <td>-7.267331</td>\n",
       "      <td>-0.290082</td>\n",
       "    </tr>\n",
       "    <tr>\n",
       "      <th>17</th>\n",
       "      <td>10 Jun 2016 04:17:00.000000000</td>\n",
       "      <td>-1.687160</td>\n",
       "      <td>-7.395170</td>\n",
       "      <td>-0.273541</td>\n",
       "    </tr>\n",
       "    <tr>\n",
       "      <th>18</th>\n",
       "      <td>10 Jun 2016 04:18:00.000000000</td>\n",
       "      <td>-1.195861</td>\n",
       "      <td>-7.490802</td>\n",
       "      <td>-0.255806</td>\n",
       "    </tr>\n",
       "    <tr>\n",
       "      <th>19</th>\n",
       "      <td>10 Jun 2016 04:19:00.000000000</td>\n",
       "      <td>-0.699383</td>\n",
       "      <td>-7.553814</td>\n",
       "      <td>-0.236956</td>\n",
       "    </tr>\n",
       "    <tr>\n",
       "      <th>20</th>\n",
       "      <td>10 Jun 2016 04:20:00.000000000</td>\n",
       "      <td>-0.199890</td>\n",
       "      <td>-7.583937</td>\n",
       "      <td>-0.217072</td>\n",
       "    </tr>\n",
       "    <tr>\n",
       "      <th>21</th>\n",
       "      <td>10 Jun 2016 04:21:00.000000000</td>\n",
       "      <td>0.300444</td>\n",
       "      <td>-7.581041</td>\n",
       "      <td>-0.196241</td>\n",
       "    </tr>\n",
       "    <tr>\n",
       "      <th>22</th>\n",
       "      <td>10 Jun 2016 04:22:00.000000000</td>\n",
       "      <td>0.799442</td>\n",
       "      <td>-7.545144</td>\n",
       "      <td>-0.174556</td>\n",
       "    </tr>\n",
       "    <tr>\n",
       "      <th>23</th>\n",
       "      <td>10 Jun 2016 04:23:00.000000000</td>\n",
       "      <td>1.294931</td>\n",
       "      <td>-7.476406</td>\n",
       "      <td>-0.152109</td>\n",
       "    </tr>\n",
       "    <tr>\n",
       "      <th>24</th>\n",
       "      <td>10 Jun 2016 04:24:00.000000000</td>\n",
       "      <td>1.784757</td>\n",
       "      <td>-7.375129</td>\n",
       "      <td>-0.129000</td>\n",
       "    </tr>\n",
       "    <tr>\n",
       "      <th>25</th>\n",
       "      <td>10 Jun 2016 04:25:00.000000000</td>\n",
       "      <td>2.266788</td>\n",
       "      <td>-7.241758</td>\n",
       "      <td>-0.105329</td>\n",
       "    </tr>\n",
       "    <tr>\n",
       "      <th>26</th>\n",
       "      <td>10 Jun 2016 04:26:00.000000000</td>\n",
       "      <td>2.738929</td>\n",
       "      <td>-7.076877</td>\n",
       "      <td>-0.081200</td>\n",
       "    </tr>\n",
       "    <tr>\n",
       "      <th>27</th>\n",
       "      <td>10 Jun 2016 04:27:00.000000000</td>\n",
       "      <td>3.199125</td>\n",
       "      <td>-6.881205</td>\n",
       "      <td>-0.056718</td>\n",
       "    </tr>\n",
       "    <tr>\n",
       "      <th>28</th>\n",
       "      <td>10 Jun 2016 04:28:00.000000000</td>\n",
       "      <td>3.645378</td>\n",
       "      <td>-6.655597</td>\n",
       "      <td>-0.031989</td>\n",
       "    </tr>\n",
       "    <tr>\n",
       "      <th>29</th>\n",
       "      <td>10 Jun 2016 04:29:00.000000000</td>\n",
       "      <td>4.075747</td>\n",
       "      <td>-6.401038</td>\n",
       "      <td>-0.007122</td>\n",
       "    </tr>\n",
       "    <tr>\n",
       "      <th>...</th>\n",
       "      <td>...</td>\n",
       "      <td>...</td>\n",
       "      <td>...</td>\n",
       "      <td>...</td>\n",
       "    </tr>\n",
       "    <tr>\n",
       "      <th>1411</th>\n",
       "      <td>11 Jun 2016 03:31:00.000000000</td>\n",
       "      <td>-4.699317</td>\n",
       "      <td>5.961488</td>\n",
       "      <td>-0.077667</td>\n",
       "    </tr>\n",
       "    <tr>\n",
       "      <th>1412</th>\n",
       "      <td>11 Jun 2016 03:32:00.000000000</td>\n",
       "      <td>-5.081787</td>\n",
       "      <td>5.638767</td>\n",
       "      <td>-0.101870</td>\n",
       "    </tr>\n",
       "    <tr>\n",
       "      <th>1413</th>\n",
       "      <td>11 Jun 2016 03:33:00.000000000</td>\n",
       "      <td>-5.442133</td>\n",
       "      <td>5.291465</td>\n",
       "      <td>-0.125629</td>\n",
       "    </tr>\n",
       "    <tr>\n",
       "      <th>1414</th>\n",
       "      <td>11 Jun 2016 03:34:00.000000000</td>\n",
       "      <td>-5.778783</td>\n",
       "      <td>4.921096</td>\n",
       "      <td>-0.148841</td>\n",
       "    </tr>\n",
       "    <tr>\n",
       "      <th>1415</th>\n",
       "      <td>11 Jun 2016 03:35:00.000000000</td>\n",
       "      <td>-6.090266</td>\n",
       "      <td>4.529271</td>\n",
       "      <td>-0.171403</td>\n",
       "    </tr>\n",
       "    <tr>\n",
       "      <th>1416</th>\n",
       "      <td>11 Jun 2016 03:36:00.000000000</td>\n",
       "      <td>-6.375224</td>\n",
       "      <td>4.117698</td>\n",
       "      <td>-0.193217</td>\n",
       "    </tr>\n",
       "    <tr>\n",
       "      <th>1417</th>\n",
       "      <td>11 Jun 2016 03:37:00.000000000</td>\n",
       "      <td>-6.632412</td>\n",
       "      <td>3.688171</td>\n",
       "      <td>-0.214187</td>\n",
       "    </tr>\n",
       "    <tr>\n",
       "      <th>1418</th>\n",
       "      <td>11 Jun 2016 03:38:00.000000000</td>\n",
       "      <td>-6.860706</td>\n",
       "      <td>3.242560</td>\n",
       "      <td>-0.234222</td>\n",
       "    </tr>\n",
       "    <tr>\n",
       "      <th>1419</th>\n",
       "      <td>11 Jun 2016 03:39:00.000000000</td>\n",
       "      <td>-7.059109</td>\n",
       "      <td>2.782810</td>\n",
       "      <td>-0.253234</td>\n",
       "    </tr>\n",
       "    <tr>\n",
       "      <th>1420</th>\n",
       "      <td>11 Jun 2016 03:40:00.000000000</td>\n",
       "      <td>-7.226756</td>\n",
       "      <td>2.310923</td>\n",
       "      <td>-0.271140</td>\n",
       "    </tr>\n",
       "    <tr>\n",
       "      <th>1421</th>\n",
       "      <td>11 Jun 2016 03:41:00.000000000</td>\n",
       "      <td>-7.362913</td>\n",
       "      <td>1.828959</td>\n",
       "      <td>-0.287862</td>\n",
       "    </tr>\n",
       "    <tr>\n",
       "      <th>1422</th>\n",
       "      <td>11 Jun 2016 03:42:00.000000000</td>\n",
       "      <td>-7.466987</td>\n",
       "      <td>1.339018</td>\n",
       "      <td>-0.303325</td>\n",
       "    </tr>\n",
       "    <tr>\n",
       "      <th>1423</th>\n",
       "      <td>11 Jun 2016 03:43:00.000000000</td>\n",
       "      <td>-7.538521</td>\n",
       "      <td>0.843237</td>\n",
       "      <td>-0.317464</td>\n",
       "    </tr>\n",
       "    <tr>\n",
       "      <th>1424</th>\n",
       "      <td>11 Jun 2016 03:44:00.000000000</td>\n",
       "      <td>-7.577205</td>\n",
       "      <td>0.343779</td>\n",
       "      <td>-0.330215</td>\n",
       "    </tr>\n",
       "    <tr>\n",
       "      <th>1425</th>\n",
       "      <td>11 Jun 2016 03:45:00.000000000</td>\n",
       "      <td>-7.582869</td>\n",
       "      <td>-0.157178</td>\n",
       "      <td>-0.341523</td>\n",
       "    </tr>\n",
       "    <tr>\n",
       "      <th>1426</th>\n",
       "      <td>11 Jun 2016 03:46:00.000000000</td>\n",
       "      <td>-7.555487</td>\n",
       "      <td>-0.657449</td>\n",
       "      <td>-0.351339</td>\n",
       "    </tr>\n",
       "    <tr>\n",
       "      <th>1427</th>\n",
       "      <td>11 Jun 2016 03:47:00.000000000</td>\n",
       "      <td>-7.495181</td>\n",
       "      <td>-1.154852</td>\n",
       "      <td>-0.359620</td>\n",
       "    </tr>\n",
       "    <tr>\n",
       "      <th>1428</th>\n",
       "      <td>11 Jun 2016 03:48:00.000000000</td>\n",
       "      <td>-7.402214</td>\n",
       "      <td>-1.647217</td>\n",
       "      <td>-0.366328</td>\n",
       "    </tr>\n",
       "    <tr>\n",
       "      <th>1429</th>\n",
       "      <td>11 Jun 2016 03:49:00.000000000</td>\n",
       "      <td>-7.276991</td>\n",
       "      <td>-2.132397</td>\n",
       "      <td>-0.371437</td>\n",
       "    </tr>\n",
       "    <tr>\n",
       "      <th>1430</th>\n",
       "      <td>11 Jun 2016 03:50:00.000000000</td>\n",
       "      <td>-7.120061</td>\n",
       "      <td>-2.608277</td>\n",
       "      <td>-0.374922</td>\n",
       "    </tr>\n",
       "    <tr>\n",
       "      <th>1431</th>\n",
       "      <td>11 Jun 2016 03:51:00.000000000</td>\n",
       "      <td>-6.932108</td>\n",
       "      <td>-3.072781</td>\n",
       "      <td>-0.376768</td>\n",
       "    </tr>\n",
       "    <tr>\n",
       "      <th>1432</th>\n",
       "      <td>11 Jun 2016 03:52:00.000000000</td>\n",
       "      <td>-6.713953</td>\n",
       "      <td>-3.523884</td>\n",
       "      <td>-0.376969</td>\n",
       "    </tr>\n",
       "    <tr>\n",
       "      <th>1433</th>\n",
       "      <td>11 Jun 2016 03:53:00.000000000</td>\n",
       "      <td>-6.466551</td>\n",
       "      <td>-3.959621</td>\n",
       "      <td>-0.375522</td>\n",
       "    </tr>\n",
       "    <tr>\n",
       "      <th>1434</th>\n",
       "      <td>11 Jun 2016 03:54:00.000000000</td>\n",
       "      <td>-6.190980</td>\n",
       "      <td>-4.378090</td>\n",
       "      <td>-0.372435</td>\n",
       "    </tr>\n",
       "    <tr>\n",
       "      <th>1435</th>\n",
       "      <td>11 Jun 2016 03:55:00.000000000</td>\n",
       "      <td>-5.888445</td>\n",
       "      <td>-4.777470</td>\n",
       "      <td>-0.367720</td>\n",
       "    </tr>\n",
       "    <tr>\n",
       "      <th>1436</th>\n",
       "      <td>11 Jun 2016 03:56:00.000000000</td>\n",
       "      <td>-5.560267</td>\n",
       "      <td>-5.156021</td>\n",
       "      <td>-0.361400</td>\n",
       "    </tr>\n",
       "    <tr>\n",
       "      <th>1437</th>\n",
       "      <td>11 Jun 2016 03:57:00.000000000</td>\n",
       "      <td>-5.207878</td>\n",
       "      <td>-5.512093</td>\n",
       "      <td>-0.353500</td>\n",
       "    </tr>\n",
       "    <tr>\n",
       "      <th>1438</th>\n",
       "      <td>11 Jun 2016 03:58:00.000000000</td>\n",
       "      <td>-4.832816</td>\n",
       "      <td>-5.844136</td>\n",
       "      <td>-0.344057</td>\n",
       "    </tr>\n",
       "    <tr>\n",
       "      <th>1439</th>\n",
       "      <td>11 Jun 2016 03:59:00.000000000</td>\n",
       "      <td>-4.436718</td>\n",
       "      <td>-6.150706</td>\n",
       "      <td>-0.333112</td>\n",
       "    </tr>\n",
       "    <tr>\n",
       "      <th>1440</th>\n",
       "      <td>11 Jun 2016 04:00:00.000000000</td>\n",
       "      <td>-4.021313</td>\n",
       "      <td>-6.430468</td>\n",
       "      <td>-0.320711</td>\n",
       "    </tr>\n",
       "  </tbody>\n",
       "</table>\n",
       "<p>1441 rows × 4 columns</p>\n",
       "</div>"
      ],
      "text/plain": [
       "                                time         x         y         z\n",
       "0     10 Jun 2016 04:00:00.000000000 -7.395504 -1.679681 -0.352284\n",
       "1     10 Jun 2016 04:01:00.000000000 -7.268032 -2.164220 -0.360397\n",
       "2     10 Jun 2016 04:02:00.000000000 -7.108893 -2.639318 -0.366936\n",
       "3     10 Jun 2016 04:03:00.000000000 -6.918784 -3.102901 -0.371871\n",
       "4     10 Jun 2016 04:04:00.000000000 -6.698534 -3.552951 -0.375181\n",
       "5     10 Jun 2016 04:05:00.000000000 -6.449107 -3.987504 -0.376852\n",
       "6     10 Jun 2016 04:06:00.000000000 -6.171591 -4.404669 -0.376877\n",
       "7     10 Jun 2016 04:07:00.000000000 -5.867200 -4.802627 -0.375255\n",
       "8     10 Jun 2016 04:08:00.000000000 -5.537261 -5.179645 -0.371993\n",
       "9     10 Jun 2016 04:09:00.000000000 -5.183216 -5.534082 -0.367108\n",
       "10    10 Jun 2016 04:10:00.000000000 -4.806609 -5.864396 -0.360618\n",
       "11    10 Jun 2016 04:11:00.000000000 -4.409085 -6.169149 -0.352554\n",
       "12    10 Jun 2016 04:12:00.000000000 -3.992377 -6.447015 -0.342951\n",
       "13    10 Jun 2016 04:13:00.000000000 -3.558303 -6.696788 -0.331850\n",
       "14    10 Jun 2016 04:14:00.000000000 -3.108756 -6.917381 -0.319301\n",
       "15    10 Jun 2016 04:15:00.000000000 -2.645696 -7.107837 -0.305358\n",
       "16    10 Jun 2016 04:16:00.000000000 -2.171141 -7.267331 -0.290082\n",
       "17    10 Jun 2016 04:17:00.000000000 -1.687160 -7.395170 -0.273541\n",
       "18    10 Jun 2016 04:18:00.000000000 -1.195861 -7.490802 -0.255806\n",
       "19    10 Jun 2016 04:19:00.000000000 -0.699383 -7.553814 -0.236956\n",
       "20    10 Jun 2016 04:20:00.000000000 -0.199890 -7.583937 -0.217072\n",
       "21    10 Jun 2016 04:21:00.000000000  0.300444 -7.581041 -0.196241\n",
       "22    10 Jun 2016 04:22:00.000000000  0.799442 -7.545144 -0.174556\n",
       "23    10 Jun 2016 04:23:00.000000000  1.294931 -7.476406 -0.152109\n",
       "24    10 Jun 2016 04:24:00.000000000  1.784757 -7.375129 -0.129000\n",
       "25    10 Jun 2016 04:25:00.000000000  2.266788 -7.241758 -0.105329\n",
       "26    10 Jun 2016 04:26:00.000000000  2.738929 -7.076877 -0.081200\n",
       "27    10 Jun 2016 04:27:00.000000000  3.199125 -6.881205 -0.056718\n",
       "28    10 Jun 2016 04:28:00.000000000  3.645378 -6.655597 -0.031989\n",
       "29    10 Jun 2016 04:29:00.000000000  4.075747 -6.401038 -0.007122\n",
       "...                              ...       ...       ...       ...\n",
       "1411  11 Jun 2016 03:31:00.000000000 -4.699317  5.961488 -0.077667\n",
       "1412  11 Jun 2016 03:32:00.000000000 -5.081787  5.638767 -0.101870\n",
       "1413  11 Jun 2016 03:33:00.000000000 -5.442133  5.291465 -0.125629\n",
       "1414  11 Jun 2016 03:34:00.000000000 -5.778783  4.921096 -0.148841\n",
       "1415  11 Jun 2016 03:35:00.000000000 -6.090266  4.529271 -0.171403\n",
       "1416  11 Jun 2016 03:36:00.000000000 -6.375224  4.117698 -0.193217\n",
       "1417  11 Jun 2016 03:37:00.000000000 -6.632412  3.688171 -0.214187\n",
       "1418  11 Jun 2016 03:38:00.000000000 -6.860706  3.242560 -0.234222\n",
       "1419  11 Jun 2016 03:39:00.000000000 -7.059109  2.782810 -0.253234\n",
       "1420  11 Jun 2016 03:40:00.000000000 -7.226756  2.310923 -0.271140\n",
       "1421  11 Jun 2016 03:41:00.000000000 -7.362913  1.828959 -0.287862\n",
       "1422  11 Jun 2016 03:42:00.000000000 -7.466987  1.339018 -0.303325\n",
       "1423  11 Jun 2016 03:43:00.000000000 -7.538521  0.843237 -0.317464\n",
       "1424  11 Jun 2016 03:44:00.000000000 -7.577205  0.343779 -0.330215\n",
       "1425  11 Jun 2016 03:45:00.000000000 -7.582869 -0.157178 -0.341523\n",
       "1426  11 Jun 2016 03:46:00.000000000 -7.555487 -0.657449 -0.351339\n",
       "1427  11 Jun 2016 03:47:00.000000000 -7.495181 -1.154852 -0.359620\n",
       "1428  11 Jun 2016 03:48:00.000000000 -7.402214 -1.647217 -0.366328\n",
       "1429  11 Jun 2016 03:49:00.000000000 -7.276991 -2.132397 -0.371437\n",
       "1430  11 Jun 2016 03:50:00.000000000 -7.120061 -2.608277 -0.374922\n",
       "1431  11 Jun 2016 03:51:00.000000000 -6.932108 -3.072781 -0.376768\n",
       "1432  11 Jun 2016 03:52:00.000000000 -6.713953 -3.523884 -0.376969\n",
       "1433  11 Jun 2016 03:53:00.000000000 -6.466551 -3.959621 -0.375522\n",
       "1434  11 Jun 2016 03:54:00.000000000 -6.190980 -4.378090 -0.372435\n",
       "1435  11 Jun 2016 03:55:00.000000000 -5.888445 -4.777470 -0.367720\n",
       "1436  11 Jun 2016 03:56:00.000000000 -5.560267 -5.156021 -0.361400\n",
       "1437  11 Jun 2016 03:57:00.000000000 -5.207878 -5.512093 -0.353500\n",
       "1438  11 Jun 2016 03:58:00.000000000 -4.832816 -5.844136 -0.344057\n",
       "1439  11 Jun 2016 03:59:00.000000000 -4.436718 -6.150706 -0.333112\n",
       "1440  11 Jun 2016 04:00:00.000000000 -4.021313 -6.430468 -0.320711\n",
       "\n",
       "[1441 rows x 4 columns]"
      ]
     },
     "execution_count": 172,
     "metadata": {},
     "output_type": "execute_result"
    }
   ],
   "source": [
    "df=pd.DataFrame({'time':time,'x':x,'y':y,'z':z});\n",
    "df"
   ]
  },
  {
   "cell_type": "code",
   "execution_count": 174,
   "metadata": {
    "collapsed": false,
    "nbpresent": {
     "id": "188f99fd-adee-42a2-aaaa-dfad2072087b"
    }
   },
   "outputs": [
    {
     "data": {
      "text/plain": [
       "Index(['time', 'x', 'y', 'z'], dtype='object')"
      ]
     },
     "execution_count": 174,
     "metadata": {},
     "output_type": "execute_result"
    }
   ],
   "source": [
    "df.columns"
   ]
  },
  {
   "cell_type": "code",
   "execution_count": null,
   "metadata": {
    "collapsed": true,
    "nbpresent": {
     "id": "900a0fc8-1295-4054-91c6-7451a46a0f39"
    }
   },
   "outputs": [],
   "source": []
  },
  {
   "cell_type": "code",
   "execution_count": null,
   "metadata": {
    "collapsed": true,
    "nbpresent": {
     "id": "c411dd98-5a61-410f-a5ba-937237d42176"
    }
   },
   "outputs": [],
   "source": []
  },
  {
   "cell_type": "code",
   "execution_count": null,
   "metadata": {
    "collapsed": true,
    "nbpresent": {
     "id": "759d4792-e500-4c43-9db5-faaba2fbc902"
    }
   },
   "outputs": [],
   "source": []
  },
  {
   "cell_type": "code",
   "execution_count": null,
   "metadata": {
    "collapsed": true,
    "nbpresent": {
     "id": "35ad0e36-798b-479c-90a5-bf3d55e5c514"
    }
   },
   "outputs": [],
   "source": []
  },
  {
   "cell_type": "code",
   "execution_count": 176,
   "metadata": {
    "collapsed": false,
    "nbpresent": {
     "id": "043297c3-600c-4ea5-ad79-6cbf5b3a72b8"
    }
   },
   "outputs": [
    {
     "data": {
      "text/plain": [
       "comtypes.POINTER(IAgDataPrvTimeVar)"
      ]
     },
     "execution_count": 176,
     "metadata": {},
     "output_type": "execute_result"
    }
   ],
   "source": [
    "ALTcartVelJ2000TimeVar=sat.DataProviders.GetDataPrvTimeVarFromPath(\"Cartesian Velocity//J2000\")\n",
    "type(ALTcartVelJ2000TimeVar)"
   ]
  },
  {
   "cell_type": "code",
   "execution_count": 177,
   "metadata": {
    "collapsed": false,
    "nbpresent": {
     "id": "cba6c13c-e047-422d-8301-09f3b1402238"
    }
   },
   "outputs": [
    {
     "data": {
      "text/plain": [
       "comtypes.POINTER(IAgDrResult)"
      ]
     },
     "execution_count": 177,
     "metadata": {},
     "output_type": "execute_result"
    }
   ],
   "source": [
    "ALTvelResults=ALTcartVelJ2000TimeVar.ExecElements(sc2.StartTime,sc2.StopTime,60,rptElements)\n",
    "type(ALTvelResults)"
   ]
  },
  {
   "cell_type": "code",
   "execution_count": null,
   "metadata": {
    "collapsed": true,
    "nbpresent": {
     "id": "782169e2-1551-47b7-b29c-7b45c4f7a738"
    }
   },
   "outputs": [],
   "source": []
  }
 ],
 "metadata": {
  "anaconda-cloud": {},
  "celltoolbar": "Slideshow",
  "kernelspec": {
   "display_name": "Python [default]",
   "language": "python",
   "name": "python3"
  },
  "language_info": {
   "codemirror_mode": {
    "name": "ipython",
    "version": 3
   },
   "file_extension": ".py",
   "mimetype": "text/x-python",
   "name": "python",
   "nbconvert_exporter": "python",
   "pygments_lexer": "ipython3",
   "version": "3.5.1"
  },
  "nbpresent": {
   "slides": {},
   "themes": {}
  }
 },
 "nbformat": 4,
 "nbformat_minor": 0
}
