{
 "cells": [
  {
   "cell_type": "markdown",
   "metadata": {},
   "source": [
    "Tell python kernel to precache the contents of STK Objects v11"
   ]
  },
  {
   "cell_type": "code",
   "execution_count": 1,
   "metadata": {
    "collapsed": false
   },
   "outputs": [
    {
     "data": {
      "text/plain": [
       "<module 'win32com.gen_py.D6A1725B-89FF-43A4-995B-7F055549F4EBx0x1x0' from 'C:\\\\Users\\\\fsnyder\\\\AppData\\\\Local\\\\Continuum\\\\Anaconda3\\\\lib\\\\site-packages\\\\win32com\\\\gen_py\\\\D6A1725B-89FF-43A4-995B-7F055549F4EBx0x1x0.py'>"
      ]
     },
     "execution_count": 1,
     "metadata": {},
     "output_type": "execute_result"
    }
   ],
   "source": [
    "import win32com.client\n",
    "## 'AGI STK Objects 11'\n",
    "win32com.client.gencache.EnsureModule('{D6A1725B-89FF-43A4-995B-7F055549F4EB}', 0, 1, 0)\n"
   ]
  },
  {
   "cell_type": "code",
   "execution_count": 2,
   "metadata": {
    "collapsed": false
   },
   "outputs": [
    {
     "data": {
      "text/plain": [
       "<module 'win32com.gen_py.00DD7BD4-53D5-4870-996B-8ADB8AF904FAx0x1x0' from 'C:\\\\Users\\\\fsnyder\\\\AppData\\\\Local\\\\Continuum\\\\Anaconda3\\\\lib\\\\site-packages\\\\win32com\\\\gen_py\\\\00DD7BD4-53D5-4870-996B-8ADB8AF904FAx0x1x0.py'>"
      ]
     },
     "execution_count": 2,
     "metadata": {},
     "output_type": "execute_result"
    }
   ],
   "source": [
    "## 'AGI STK Util 11'\n",
    "win32com.client.gencache.EnsureModule('{00DD7BD4-53D5-4870-996B-8ADB8AF904FA}', 0, 1, 0)"
   ]
  },
  {
   "cell_type": "code",
   "execution_count": 3,
   "metadata": {
    "collapsed": false
   },
   "outputs": [
    {
     "data": {
      "text/plain": [
       "<module 'win32com.gen_py.BEF246AB-FA35-44BB-BEE8-01928B41E9A6x0x1x0' from 'C:\\\\Users\\\\fsnyder\\\\AppData\\\\Local\\\\Continuum\\\\Anaconda3\\\\lib\\\\site-packages\\\\win32com\\\\gen_py\\\\BEF246AB-FA35-44BB-BEE8-01928B41E9A6x0x1x0.py'>"
      ]
     },
     "execution_count": 3,
     "metadata": {},
     "output_type": "execute_result"
    }
   ],
   "source": [
    "## 'AGI STK X 11'\n",
    "win32com.client.gencache.EnsureModule('{BEF246AB-FA35-44BB-BEE8-01928B41E9A6}', 0, 1, 0)"
   ]
  },
  {
   "cell_type": "code",
   "execution_count": 4,
   "metadata": {
    "collapsed": false
   },
   "outputs": [
    {
     "data": {
      "text/plain": [
       "<module 'win32com.gen_py.42D2781B-8A06-4DB2-9969-72D6ABF01A72x0x1x0' from 'C:\\\\Users\\\\fsnyder\\\\AppData\\\\Local\\\\Continuum\\\\Anaconda3\\\\lib\\\\site-packages\\\\win32com\\\\gen_py\\\\42D2781B-8A06-4DB2-9969-72D6ABF01A72x0x1x0.py'>"
      ]
     },
     "execution_count": 4,
     "metadata": {},
     "output_type": "execute_result"
    }
   ],
   "source": [
    "## 'AGI STK Graphics 11'\n",
    "win32com.client.gencache.EnsureModule('{42D2781B-8A06-4DB2-9969-72D6ABF01A72}', 0, 1, 0)"
   ]
  },
  {
   "cell_type": "code",
   "execution_count": 5,
   "metadata": {
    "collapsed": true
   },
   "outputs": [],
   "source": [
    "app = win32com.client.gencache.EnsureDispatch(\"STK11.Application\")"
   ]
  },
  {
   "cell_type": "code",
   "execution_count": 7,
   "metadata": {
    "collapsed": false
   },
   "outputs": [
    {
     "data": {
      "text/plain": [
       "884"
      ]
     },
     "execution_count": 7,
     "metadata": {},
     "output_type": "execute_result"
    }
   ],
   "source": [
    "app.Height"
   ]
  },
  {
   "cell_type": "code",
   "execution_count": null,
   "metadata": {
    "collapsed": false
   },
   "outputs": [],
   "source": [
    "c=win32com.client.constants"
   ]
  },
  {
   "cell_type": "code",
   "execution_count": null,
   "metadata": {
    "collapsed": false
   },
   "outputs": [],
   "source": [
    "app.Visible = True\n",
    "app.UserControl = 1\n",
    "root = app.Personality2"
   ]
  },
  {
   "cell_type": "code",
   "execution_count": null,
   "metadata": {
    "collapsed": true
   },
   "outputs": [],
   "source": [
    "scenario = root.Children.New(c.eScenario,\"DIY_Python\")\n",
    "\n"
   ]
  },
  {
   "cell_type": "code",
   "execution_count": null,
   "metadata": {
    "collapsed": true
   },
   "outputs": [],
   "source": [
    "scenario.SetTimePeriod(\"24 Feb 2012 12:00:00.000\",\"25 Feb 2012 12:00:00.000\")\n"
   ]
  },
  {
   "cell_type": "code",
   "execution_count": null,
   "metadata": {
    "collapsed": false
   },
   "outputs": [],
   "source": [
    "root.Rewind()"
   ]
  },
  {
   "cell_type": "code",
   "execution_count": null,
   "metadata": {
    "collapsed": false
   },
   "outputs": [],
   "source": [
    "root.Pause()"
   ]
  },
  {
   "cell_type": "raw",
   "metadata": {},
   "source": [
    "root.Rewind()"
   ]
  },
  {
   "cell_type": "code",
   "execution_count": null,
   "metadata": {
    "collapsed": false
   },
   "outputs": [],
   "source": [
    "root.Pause()"
   ]
  },
  {
   "cell_type": "code",
   "execution_count": null,
   "metadata": {
    "collapsed": false
   },
   "outputs": [],
   "source": [
    "facility = scenario.Children.New(c.eFacility,\"Test\")"
   ]
  },
  {
   "cell_type": "code",
   "execution_count": null,
   "metadata": {
    "collapsed": true
   },
   "outputs": [],
   "source": [
    "root.Pause()"
   ]
  },
  {
   "cell_type": "code",
   "execution_count": null,
   "metadata": {
    "collapsed": true
   },
   "outputs": [],
   "source": []
  }
 ],
 "metadata": {
  "anaconda-cloud": {},
  "celltoolbar": "Edit Metadata",
  "kernelspec": {
   "display_name": "Python [conda root]",
   "language": "python",
   "name": "conda-root-py"
  },
  "language_info": {
   "codemirror_mode": {
    "name": "ipython",
    "version": 3
   },
   "file_extension": ".py",
   "mimetype": "text/x-python",
   "name": "python",
   "nbconvert_exporter": "python",
   "pygments_lexer": "ipython3",
   "version": "3.5.1"
  }
 },
 "nbformat": 4,
 "nbformat_minor": 0
}
