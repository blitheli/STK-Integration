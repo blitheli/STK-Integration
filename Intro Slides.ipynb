{
 "cells": [
  {
   "cell_type": "markdown",
   "metadata": {
    "deletable": true,
    "editable": true,
    "nbpresent": {
     "id": "be3d5745-153d-4e5f-a061-68b6a4b10be9"
    },
    "slideshow": {
     "slide_type": "slide"
    }
   },
   "source": [
    "\n",
    "# STK Integration with Python\n",
    "<br/>\n",
    "<br/>\n",
    "## Frank Snyder\n",
    "<br/>\n",
    "### Product Evangelist - Analytical Graphics, Inc.\n",
    "#### fsnyder@agi.com\n",
    "#### www.agi.com\n",
    "https://github.com/agifsnyder/STK-Integration/"
   ]
  },
  {
   "cell_type": "markdown",
   "metadata": {
    "deletable": true,
    "editable": true,
    "nbpresent": {
     "id": "132610c8-7927-486d-be22-15f3e02a78a9"
    },
    "slideshow": {
     "slide_type": "subslide"
    }
   },
   "source": [
    "### - Discover how to navigate the STK API and Automate interaction with Objects and Tools in a Scenario through scientific scripting languages like MATLAB and Python"
   ]
  },
  {
   "cell_type": "markdown",
   "metadata": {
    "deletable": true,
    "editable": true,
    "nbpresent": {
     "id": "929984ee-572e-46c6-8ee6-c005077a6993"
    },
    "slideshow": {
     "slide_type": "fragment"
    }
   },
   "source": [
    "### - Learn how to use an interactive (REPL) interface in both languages to better understand how the STK API is organized"
   ]
  },
  {
   "cell_type": "markdown",
   "metadata": {
    "deletable": true,
    "editable": true,
    "nbpresent": {
     "id": "71665d79-82f2-4169-a797-65aaf4eb670b"
    },
    "slideshow": {
     "slide_type": "fragment"
    }
   },
   "source": [
    "### - Determine how to leverage the iPython Notebook interface with STK to better document trade studies and present results"
   ]
  },
  {
   "cell_type": "markdown",
   "metadata": {
    "deletable": true,
    "editable": true,
    "nbpresent": {
     "id": "f2ed1d3c-a719-4e57-ad04-e29ad90817fd"
    },
    "slideshow": {
     "slide_type": "slide"
    }
   },
   "source": [
    "# STK Interfaces (over time)"
   ]
  },
  {
   "cell_type": "markdown",
   "metadata": {
    "deletable": true,
    "editable": true,
    "nbpresent": {
     "id": "410dbed7-cd8c-4837-a1cf-709585359f7a"
    },
    "slideshow": {
     "slide_type": "subslide"
    }
   },
   "source": [
    "## In the beginning...\n",
    "<br/>\n",
    "<div style=\"width:500px; margin: 0 auto;\">\n",
    "  <img src=\"images/InView_STKv2.0_Aug1992.png\" width=\"100%\" height=\"100%\" style=\"margin: 0 auto;\"/>\n",
    "  <h3 style=\"text-size: small;text-align:center;\"><strong>STK 2.0 - The GUI</strong></h3>\n",
    "</div>\n"
   ]
  },
  {
   "cell_type": "markdown",
   "metadata": {
    "deletable": true,
    "editable": true,
    "nbpresent": {
     "id": "a74c54b2-d7cb-4606-a626-e116254ec394"
    },
    "slideshow": {
     "slide_type": "subslide"
    }
   },
   "source": [
    "<div style=\"width:600px; margin: 0 auto;\">\n",
    "  <img src=\"images/InView_STKv3.0_1995.png\" width=\"85%\" height=\"70%\" style=\"margin: 0 auto;\"; />\n",
    "  <h3 style=\"text-size: small;text-align:center;\"><strong>STK 3.0.  NOW With Color GUI !!</strong></h3>\n",
    "</div>"
   ]
  },
  {
   "cell_type": "markdown",
   "metadata": {
    "deletable": true,
    "editable": true,
    "nbpresent": {
     "id": "182dc473-a084-476d-956c-836d038aaece"
    },
    "slideshow": {
     "slide_type": "subslide"
    }
   },
   "source": [
    "<div style=\"width:800px; margin: 0 auto;\">\n",
    " <div style=\"width:350px; display: inline-block; float:left; margin: 0 auto; \">\n",
    "   <div>\n",
    "     <img src=\"images/InView_ColorBrowserWindow_1995.png\" width=\"80%\" height=\"50%\" style=\"margin: 0 auto; \"/>\n",
    "   </div>\n",
    "   <h3 style=\"text-size: small;text-align:center;\"><strong>STK3.0 Object Browser.</strong></h3>\n",
    "</div>\n",
    "\n",
    " <div style=\"width:350px; display: inline-block; float:right; margin: 0 auto;\">\n",
    "   <div>\n",
    "     <img src=\"images/InView_FeedbackOnSTK3.0_IPC_1995.png\" width=\"80%\" height=\"50%\" style=\"margin: 0 auto;\"/>\n",
    "   </div>\n",
    "   <h3 style=\"text-size: small;text-align:right;\"><strong>Feedback of STK3.0 IPCv2.0.</strong></h3>\n",
    " </div>\n",
    "</div>"
   ]
  },
  {
   "cell_type": "markdown",
   "metadata": {
    "deletable": true,
    "editable": true,
    "nbpresent": {
     "id": "dfea0234-bc1b-49d0-b985-238ed37746e7"
    },
    "slideshow": {
     "slide_type": "subslide"
    }
   },
   "source": [
    "## STK/IPC\n",
    "- <strong>A text-based, CLI-like syntax over TCP/IP</strong>\n",
    "  - `New / Scenario \"My_New_Scenario\"`\n",
    "  - `SetPosition */Satellite/Shuttle LLA \"1 Nov 2000 04:01:00.00\" -19 8 372800 -0.23 0.058 0.002`\n",
    "  - `Report_RM */Satellite/Shuttle Style \"Lighting Times\" TimePeriod \"1 Nov 2000 00:00:00.00\" \"1 Nov 2000 04:00:00.00\" TimeStep 30`\n",
    "\n",
    "<div class=\"alert alert-info\">rebranded as \"STK/Connect\"</div>"
   ]
  },
  {
   "cell_type": "markdown",
   "metadata": {
    "deletable": true,
    "editable": true,
    "nbpresent": {
     "id": "0b3b3168-2433-4142-91f4-c4094e6057fd"
    },
    "slideshow": {
     "slide_type": "subslide"
    }
   },
   "source": [
    "- PLUS: Syntax was human readable\n",
    "- <span style=\"background:black; color:white; padding:2px;\"> MINUS: Error reporting wasn't </span>\n",
    "\n",
    "\n",
    "- PLUS: Simple to form\n",
    "- <span style=\"background:black; color:white;  padding:2px;\"> MINUS: Limited because of Strings < 255 characters </span>\n",
    "\n",
    "\n",
    "- PLUS: \"Easy\" to request Data\n",
    "- <span style=\"background:black; color:white; padding:2px; \"> MINUS: Parsing returned Data was \"hard\" </span>"
   ]
  },
  {
   "cell_type": "markdown",
   "metadata": {
    "deletable": true,
    "editable": true,
    "nbpresent": {
     "id": "fab75c41-ac16-4af1-a57a-c0378fa1eb11"
    },
    "slideshow": {
     "slide_type": "fragment"
    }
   },
   "source": [
    "<div class=\"alert alert-warning\">\"Connect\" drove the Comp-Sci guys nuts...</div>"
   ]
  },
  {
   "cell_type": "markdown",
   "metadata": {
    "deletable": true,
    "editable": true,
    "nbpresent": {
     "id": "787f80b3-1a0d-4224-8a14-2727500a510b"
    },
    "slideshow": {
     "slide_type": "subslide"
    }
   },
   "source": [
    "## ~2002/'03 - STKv5.0\n",
    "<div style=\"width:600px;  margin: 0 auto;\">\n",
    "  <img src=\"images/InView_ExperienceSTK5.0_UC2003.png\"  width=\"100%\" height=\"70%\" style=\"margin: 0 auto;\"/>\n",
    "</div>\n",
    "<h3 style=\"text-size: small;text-align:center;\"><strong>STK 5.0 Object Model</strong></h3>\n",
    "### The STK Object Model\n",
    "- Windows COM based\n",
    "- Classes/Interfaces/Events\n"
   ]
  },
  {
   "cell_type": "markdown",
   "metadata": {
    "deletable": true,
    "editable": true,
    "nbpresent": {
     "id": "6a098ac1-fddc-464a-b067-d5ceb3f924e6"
    },
    "slideshow": {
     "slide_type": "subslide"
    }
   },
   "source": [
    "## But how to organize it ?\n",
    "<br/>\n",
    "<div style=\"width:400px; margin: 0 auto;\">\n",
    "  <img src=\"images/chicken-or-egg.png\" width=\"90%\" height=\"80%\" style=\"margin: 0 auto;\"/>\n",
    "</div>\n",
    "<h3 style=\"text-size: small;text-align:center;\"><strong>Which Comes FIRST?</strong></h3>\n",
    "<br/>\n",
    "## Go back to the begining...  The GUI !!"
   ]
  },
  {
   "cell_type": "markdown",
   "metadata": {
    "deletable": true,
    "editable": true,
    "slideshow": {
     "slide_type": "subslide"
    }
   },
   "source": [
    "STK Object Model Diagram(s)\n",
    "<div style=\"width:800px; margin: 0 auto;\">\n",
    "  <img src=\"images/STK_OM_page1-subset.png\" width=\"100%\" height=\"100%\"  style=\"margin: 0 auto;\"/>\n",
    "</div>"
   ]
  },
  {
   "cell_type": "markdown",
   "metadata": {
    "deletable": true,
    "editable": true,
    "slideshow": {
     "slide_type": "subslide"
    }
   },
   "source": [
    "### STK (Engine) Programming  Documentation [(online)](http://help.agi.com/stkdevkit/index.html)\n",
    "\n",
    "- ex. **_IAgStkObject_** [docs](http://help.agi.com/resources/help/online/stkdevkit/11.1/index.html?page=source%2Fextfile%2FSTKObjects%2FSTKObjects~IAgStkObject.html)\n",
    " \n",
    "<br/>\n",
    "###  STK Object Model Diagrams [(online)](http://help.agi.com/stkdevkit/ObjectModel/pdf/ObjectModel_diagram.pdf)"
   ]
  },
  {
   "cell_type": "markdown",
   "metadata": {
    "deletable": true,
    "editable": true,
    "slideshow": {
     "slide_type": "slide"
    }
   },
   "source": [
    "# Object-Oriented Programming"
   ]
  },
  {
   "cell_type": "markdown",
   "metadata": {
    "deletable": true,
    "editable": true,
    "slideshow": {
     "slide_type": "subslide"
    }
   },
   "source": [
    "## Snyder's (very short) Course on Object Oriented \"stuff\""
   ]
  },
  {
   "cell_type": "markdown",
   "metadata": {
    "deletable": true,
    "editable": true,
    "slideshow": {
     "slide_type": "fragment"
    }
   },
   "source": [
    "## The <img src=\"images/marvel.png\" style=\" height: 100px; display: inline-block; margin: 0 auto; \"/> Edition"
   ]
  },
  {
   "cell_type": "markdown",
   "metadata": {
    "deletable": true,
    "editable": true,
    "slideshow": {
     "slide_type": "subslide"
    }
   },
   "source": [
    "## Objects"
   ]
  },
  {
   "cell_type": "markdown",
   "metadata": {
    "deletable": true,
    "editable": true,
    "slideshow": {
     "slide_type": "fragment"
    }
   },
   "source": [
    "<div style=\"width:600px;  margin: 0 auto;\">\n",
    "  <img src=\"images/hulk-banner.jpg\" style=\"margin: 0 auto; \"/>\n",
    "</div>\n",
    "<h3 style=\"text-align:center;\">Object Name = \"AgBigGuy\"</h3>"
   ]
  },
  {
   "cell_type": "markdown",
   "metadata": {
    "deletable": true,
    "editable": true,
    "slideshow": {
     "slide_type": "subslide"
    }
   },
   "source": [
    "## Object **_AgBigGuy_** has 2 Interfaces\n",
    "<br>\n",
    " - **_IAgBigGuyBanner_**\n",
    "\n",
    "<br/>\n",
    " - **_IAgBigGuyHulk_** "
   ]
  },
  {
   "cell_type": "markdown",
   "metadata": {
    "deletable": true,
    "editable": true,
    "slideshow": {
     "slide_type": "subslide"
    }
   },
   "source": [
    "### **_IAgBigGuyBanner_**\n",
    "- Properties\n",
    "  - .size\n",
    "  - .skinTone\n",
    "  - .attitude\n",
    "- Methods\n",
    "  - .talk\n",
    "  - .think\n",
    "  - .DoScience\n",
    "  - .smash   (damage = minor)\n",
    "- Events\n",
    "  - .GettingAngry"
   ]
  },
  {
   "cell_type": "markdown",
   "metadata": {
    "deletable": true,
    "editable": true,
    "slideshow": {
     "slide_type": "subslide"
    }
   },
   "source": [
    "### **_IAgBigGuyHulk_**\n",
    "- Properties\n",
    "  - .size\n",
    "  - .skinTone\n",
    "  - .attitude\n",
    "- Methods\n",
    "  - .smash (damage = extreme)\n",
    "  - .meditate \n",
    "- Events\n",
    "  - .GettingReallyAngry"
   ]
  },
  {
   "cell_type": "markdown",
   "metadata": {
    "deletable": true,
    "editable": true,
    "slideshow": {
     "slide_type": "fragment"
    }
   },
   "source": [
    "<div class=\"alert alert-warning\">Objects are everything, but pay attention to the Interfaces</div>"
   ]
  },
  {
   "cell_type": "markdown",
   "metadata": {
    "collapsed": true,
    "deletable": true,
    "editable": true,
    "slideshow": {
     "slide_type": "subslide"
    }
   },
   "source": [
    "<div style=\"width:600px;  margin: 0 auto;\">\n",
    "  <img src=\"images/hulk-meditate.jpg\" style=\"width:80%; margin: 0 auto; \"/>\n",
    "</div>\n",
    "<h3 style=\"text-align:center;\">OM... OM...</h3>"
   ]
  },
  {
   "cell_type": "markdown",
   "metadata": {
    "deletable": true,
    "editable": true,
    "slideshow": {
     "slide_type": "slide"
    }
   },
   "source": [
    "# Coding Environments"
   ]
  },
  {
   "cell_type": "markdown",
   "metadata": {
    "deletable": true,
    "editable": true,
    "slideshow": {
     "slide_type": "subslide"
    }
   },
   "source": [
    "## Selecting an environment and language\n",
    "\n",
    "<br/>\n",
    "<div style=\"width:600px;  margin: 0 auto;\">\n",
    "  <img src=\"images/scale-of-coding-languages.png\" style=\"width:100%; margin: 0 auto; \"/>\n",
    "</div>\n",
    "<br/>"
   ]
  },
  {
   "cell_type": "markdown",
   "metadata": {
    "deletable": true,
    "editable": true,
    "slideshow": {
     "slide_type": "subslide"
    }
   },
   "source": [
    "- Things You **Need** In your Coding Environment\n",
    "  - COM Support (Late or Early)\n",
    "- Things You **Want** in your Coding Environment (for learning)\n",
    "  - R.E.P.L (Read-Evaluate-Print-Loop)\n",
    "  - Tab-completion (Intellisense)\n",
    "  - Libraries\n",
    "  - Text Editor with Syntax Highlighting\n",
    "  - Pretty Output"
   ]
  },
  {
   "cell_type": "markdown",
   "metadata": {
    "deletable": true,
    "editable": true,
    "slideshow": {
     "slide_type": "subslide"
    }
   },
   "source": [
    "# MATLAB <img src=\"images/mathworks.jpg\" style=\" height: 30px; display: inline-block; margin: 0 auto; \"/>\n",
    "- Scientific **Environment**\n",
    "  - Language\n",
    "  - IDE\n",
    "- Dynamicly Typed\n",
    "- Can bind to COM objects - <span style=\"background:black; color:white; padding:2px; \"> Late-Bound only</span>\n",
    "   - `app = actxserver('STK11.application');`\n",
    "   - `app.UserControl = 1;`\n",
    "   - `root=app.Personality2;`"
   ]
  },
  {
   "cell_type": "markdown",
   "metadata": {
    "deletable": true,
    "editable": true,
    "slideshow": {
     "slide_type": "subslide"
    }
   },
   "source": [
    "- PLUS: Awesome at math, matrices, plots & graphs\n",
    "  - many \"specialty\" libraries\n",
    "- <span style=\"background:black; color:white; padding:2px; \"> MINUS: Working with TEXT is \"hard\"</span>\n",
    "- <span style=\"background:black; color:white; padding:2px; \"> MINUS: \"strange\" data structures</span>\n",
    "   - struct2cell()\n",
    "   - cell2mat()"
   ]
  },
  {
   "cell_type": "markdown",
   "metadata": {
    "deletable": true,
    "editable": true,
    "slideshow": {
     "slide_type": "subslide"
    }
   },
   "source": [
    "# Python <img src=\"images/python-logo.png\" style=\" height: 30px; display: inline-block; margin: 0 auto; \"/>\n",
    "- General purpose language\n",
    "- Scientific **Libraries**\n",
    "  - Numpy <img src=\"images/numpylogo_med.png\" style=\" height: 30px; display: inline-block; margin: 0 auto; \"/>\n",
    "  - SciPy <img src=\"images/scipy_med.png\" style=\" height: 30px; display: inline-block; margin: 0 auto; \"/>\n",
    "  - SymPy <img src=\"images/sympy_logo.png\" style=\" height: 30px; display: inline-block; margin: 0 auto; \"/>\n",
    "  - Pandas <img src=\"images/pandas_badge2.jpg\" style=\" height: 30px; display: inline-block; margin: 0 auto; \"/>\n",
    "  - Matplotlib <img src=\"images/matplotlib_med.png\" style=\" height: 30px; display: inline-block; margin: 0 auto; \"/>\n",
    "  - more..."
   ]
  },
  {
   "cell_type": "markdown",
   "metadata": {
    "deletable": true,
    "editable": true,
    "slideshow": {
     "slide_type": "subslide"
    }
   },
   "source": [
    "- Multiple IDE's\n",
    "  - IPython <img src=\"images/ipython.png\" style=\" height: 30px; display: inline-block; margin: 0 auto; \"/>\n",
    "  - Spyder <img src=\"images/spyder_bbg.png\" style=\" height: 30px; display: inline-block; margin: 0 auto; \"/>\n",
    "  - Jupyter Notebook <img src=\"images/jupyter.png\" style=\" height: 30px; display: inline-block; margin: 0 auto; \"/>\n",
    "- Dynamicly Typed\n",
    "- Can bind to COM objects - **Early** or Late-Bound"
   ]
  },
  {
   "cell_type": "markdown",
   "metadata": {
    "deletable": true,
    "editable": true,
    "slideshow": {
     "slide_type": "slide"
    }
   },
   "source": [
    "# Live Demo\n",
    "\n",
    "<br/><br/><br/>\n",
    "\n",
    "<div class=\"alert alert-success\"><p style=\"text-align: right;\"><span style=\"font-size:xx-large;\"> .style: { fingers : crossed };</span></p></div>\n"
   ]
  }
 ],
 "metadata": {
  "anaconda-cloud": {},
  "celltoolbar": "Slideshow",
  "kernelspec": {
   "display_name": "Python 3",
   "language": "python",
   "name": "python3"
  },
  "language_info": {
   "codemirror_mode": {
    "name": "ipython",
    "version": 3
   },
   "file_extension": ".py",
   "mimetype": "text/x-python",
   "name": "python",
   "nbconvert_exporter": "python",
   "pygments_lexer": "ipython3",
   "version": "3.6.0"
  },
  "livereveal": {
   "scroll": "True",
   "start_slideshow_at": "selected"
  },
  "nbpresent": {
   "slides": {},
   "themes": {}
  }
 },
 "nbformat": 4,
 "nbformat_minor": 0
}
